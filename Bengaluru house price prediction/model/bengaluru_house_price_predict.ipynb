{
 "cells": [
  {
   "cell_type": "code",
   "execution_count": 140,
   "id": "e7d93d52",
   "metadata": {},
   "outputs": [],
   "source": [
    "import pandas as pd\n",
    "import numpy as np\n",
    "import matplotlib.pyplot as pyp\n",
    "import seaborn as sns\n",
    "from sklearn.model_selection import train_test_split\n",
    "from sklearn.model_selection import cross_val_score\n",
    "from sklearn.ensemble import BaggingClassifier\n",
    "from sklearn.ensemble import RandomForestClassifier\n",
    "from sklearn.preprocessing import StandardScaler"
   ]
  },
  {
   "cell_type": "code",
   "execution_count": 141,
   "id": "a4df21a5",
   "metadata": {},
   "outputs": [
    {
     "data": {
      "text/html": [
       "<div>\n",
       "<style scoped>\n",
       "    .dataframe tbody tr th:only-of-type {\n",
       "        vertical-align: middle;\n",
       "    }\n",
       "\n",
       "    .dataframe tbody tr th {\n",
       "        vertical-align: top;\n",
       "    }\n",
       "\n",
       "    .dataframe thead th {\n",
       "        text-align: right;\n",
       "    }\n",
       "</style>\n",
       "<table border=\"1\" class=\"dataframe\">\n",
       "  <thead>\n",
       "    <tr style=\"text-align: right;\">\n",
       "      <th></th>\n",
       "      <th>area_type</th>\n",
       "      <th>availability</th>\n",
       "      <th>location</th>\n",
       "      <th>size</th>\n",
       "      <th>society</th>\n",
       "      <th>total_sqft</th>\n",
       "      <th>bath</th>\n",
       "      <th>balcony</th>\n",
       "      <th>price</th>\n",
       "    </tr>\n",
       "  </thead>\n",
       "  <tbody>\n",
       "    <tr>\n",
       "      <th>0</th>\n",
       "      <td>Super built-up  Area</td>\n",
       "      <td>19-Dec</td>\n",
       "      <td>Electronic City Phase II</td>\n",
       "      <td>2 BHK</td>\n",
       "      <td>Coomee</td>\n",
       "      <td>1056</td>\n",
       "      <td>2.0</td>\n",
       "      <td>1.0</td>\n",
       "      <td>39.07</td>\n",
       "    </tr>\n",
       "    <tr>\n",
       "      <th>1</th>\n",
       "      <td>Plot  Area</td>\n",
       "      <td>Ready To Move</td>\n",
       "      <td>Chikka Tirupathi</td>\n",
       "      <td>4 Bedroom</td>\n",
       "      <td>Theanmp</td>\n",
       "      <td>2600</td>\n",
       "      <td>5.0</td>\n",
       "      <td>3.0</td>\n",
       "      <td>120.00</td>\n",
       "    </tr>\n",
       "    <tr>\n",
       "      <th>2</th>\n",
       "      <td>Built-up  Area</td>\n",
       "      <td>Ready To Move</td>\n",
       "      <td>Uttarahalli</td>\n",
       "      <td>3 BHK</td>\n",
       "      <td>NaN</td>\n",
       "      <td>1440</td>\n",
       "      <td>2.0</td>\n",
       "      <td>3.0</td>\n",
       "      <td>62.00</td>\n",
       "    </tr>\n",
       "    <tr>\n",
       "      <th>3</th>\n",
       "      <td>Super built-up  Area</td>\n",
       "      <td>Ready To Move</td>\n",
       "      <td>Lingadheeranahalli</td>\n",
       "      <td>3 BHK</td>\n",
       "      <td>Soiewre</td>\n",
       "      <td>1521</td>\n",
       "      <td>3.0</td>\n",
       "      <td>1.0</td>\n",
       "      <td>95.00</td>\n",
       "    </tr>\n",
       "    <tr>\n",
       "      <th>4</th>\n",
       "      <td>Super built-up  Area</td>\n",
       "      <td>Ready To Move</td>\n",
       "      <td>Kothanur</td>\n",
       "      <td>2 BHK</td>\n",
       "      <td>NaN</td>\n",
       "      <td>1200</td>\n",
       "      <td>2.0</td>\n",
       "      <td>1.0</td>\n",
       "      <td>51.00</td>\n",
       "    </tr>\n",
       "  </tbody>\n",
       "</table>\n",
       "</div>"
      ],
      "text/plain": [
       "              area_type   availability                  location       size  \\\n",
       "0  Super built-up  Area         19-Dec  Electronic City Phase II      2 BHK   \n",
       "1            Plot  Area  Ready To Move          Chikka Tirupathi  4 Bedroom   \n",
       "2        Built-up  Area  Ready To Move               Uttarahalli      3 BHK   \n",
       "3  Super built-up  Area  Ready To Move        Lingadheeranahalli      3 BHK   \n",
       "4  Super built-up  Area  Ready To Move                  Kothanur      2 BHK   \n",
       "\n",
       "   society total_sqft  bath  balcony   price  \n",
       "0  Coomee        1056   2.0      1.0   39.07  \n",
       "1  Theanmp       2600   5.0      3.0  120.00  \n",
       "2      NaN       1440   2.0      3.0   62.00  \n",
       "3  Soiewre       1521   3.0      1.0   95.00  \n",
       "4      NaN       1200   2.0      1.0   51.00  "
      ]
     },
     "execution_count": 141,
     "metadata": {},
     "output_type": "execute_result"
    }
   ],
   "source": [
    "df = pd.read_csv('/home/srinivas/Downloads/datasets/csv datasets/Bengaluru_House_Data.csv')\n",
    "df.head()"
   ]
  },
  {
   "cell_type": "code",
   "execution_count": 142,
   "id": "ffba3a19",
   "metadata": {},
   "outputs": [
    {
     "name": "stdout",
     "output_type": "stream",
     "text": [
      "<class 'pandas.core.frame.DataFrame'>\n",
      "RangeIndex: 13320 entries, 0 to 13319\n",
      "Data columns (total 9 columns):\n",
      " #   Column        Non-Null Count  Dtype  \n",
      "---  ------        --------------  -----  \n",
      " 0   area_type     13320 non-null  object \n",
      " 1   availability  13320 non-null  object \n",
      " 2   location      13319 non-null  object \n",
      " 3   size          13304 non-null  object \n",
      " 4   society       7818 non-null   object \n",
      " 5   total_sqft    13320 non-null  object \n",
      " 6   bath          13247 non-null  float64\n",
      " 7   balcony       12711 non-null  float64\n",
      " 8   price         13320 non-null  float64\n",
      "dtypes: float64(3), object(6)\n",
      "memory usage: 936.7+ KB\n"
     ]
    }
   ],
   "source": [
    "df.info()"
   ]
  },
  {
   "cell_type": "code",
   "execution_count": 143,
   "id": "2cdea764",
   "metadata": {},
   "outputs": [
    {
     "data": {
      "text/plain": [
       "Super built-up  Area    8790\n",
       "Built-up  Area          2418\n",
       "Plot  Area              2025\n",
       "Carpet  Area              87\n",
       "Name: area_type, dtype: int64"
      ]
     },
     "execution_count": 143,
     "metadata": {},
     "output_type": "execute_result"
    }
   ],
   "source": [
    "df['area_type'].value_counts()"
   ]
  },
  {
   "cell_type": "code",
   "execution_count": 144,
   "id": "1ca45422",
   "metadata": {},
   "outputs": [
    {
     "data": {
      "text/plain": [
       "area_type\n",
       "Built-up  Area          2418\n",
       "Carpet  Area              87\n",
       "Plot  Area              2025\n",
       "Super built-up  Area    8790\n",
       "Name: area_type, dtype: int64"
      ]
     },
     "execution_count": 144,
     "metadata": {},
     "output_type": "execute_result"
    }
   ],
   "source": [
    "df.groupby('area_type')['area_type'].count()"
   ]
  },
  {
   "cell_type": "code",
   "execution_count": 145,
   "id": "12ed703d",
   "metadata": {},
   "outputs": [
    {
     "data": {
      "text/html": [
       "<div>\n",
       "<style scoped>\n",
       "    .dataframe tbody tr th:only-of-type {\n",
       "        vertical-align: middle;\n",
       "    }\n",
       "\n",
       "    .dataframe tbody tr th {\n",
       "        vertical-align: top;\n",
       "    }\n",
       "\n",
       "    .dataframe thead th {\n",
       "        text-align: right;\n",
       "    }\n",
       "</style>\n",
       "<table border=\"1\" class=\"dataframe\">\n",
       "  <thead>\n",
       "    <tr style=\"text-align: right;\">\n",
       "      <th></th>\n",
       "      <th>area_type</th>\n",
       "      <th>availability</th>\n",
       "      <th>location</th>\n",
       "      <th>size</th>\n",
       "      <th>society</th>\n",
       "      <th>total_sqft</th>\n",
       "      <th>bath</th>\n",
       "      <th>balcony</th>\n",
       "      <th>price</th>\n",
       "    </tr>\n",
       "  </thead>\n",
       "  <tbody>\n",
       "    <tr>\n",
       "      <th>0</th>\n",
       "      <td>Super built-up  Area</td>\n",
       "      <td>19-Dec</td>\n",
       "      <td>Electronic City Phase II</td>\n",
       "      <td>2 BHK</td>\n",
       "      <td>Coomee</td>\n",
       "      <td>1056</td>\n",
       "      <td>2.0</td>\n",
       "      <td>1.0</td>\n",
       "      <td>39.07</td>\n",
       "    </tr>\n",
       "    <tr>\n",
       "      <th>1</th>\n",
       "      <td>Plot  Area</td>\n",
       "      <td>Ready To Move</td>\n",
       "      <td>Chikka Tirupathi</td>\n",
       "      <td>4 Bedroom</td>\n",
       "      <td>Theanmp</td>\n",
       "      <td>2600</td>\n",
       "      <td>5.0</td>\n",
       "      <td>3.0</td>\n",
       "      <td>120.00</td>\n",
       "    </tr>\n",
       "    <tr>\n",
       "      <th>2</th>\n",
       "      <td>Built-up  Area</td>\n",
       "      <td>Ready To Move</td>\n",
       "      <td>Uttarahalli</td>\n",
       "      <td>3 BHK</td>\n",
       "      <td>NaN</td>\n",
       "      <td>1440</td>\n",
       "      <td>2.0</td>\n",
       "      <td>3.0</td>\n",
       "      <td>62.00</td>\n",
       "    </tr>\n",
       "    <tr>\n",
       "      <th>3</th>\n",
       "      <td>Super built-up  Area</td>\n",
       "      <td>Ready To Move</td>\n",
       "      <td>Lingadheeranahalli</td>\n",
       "      <td>3 BHK</td>\n",
       "      <td>Soiewre</td>\n",
       "      <td>1521</td>\n",
       "      <td>3.0</td>\n",
       "      <td>1.0</td>\n",
       "      <td>95.00</td>\n",
       "    </tr>\n",
       "    <tr>\n",
       "      <th>4</th>\n",
       "      <td>Super built-up  Area</td>\n",
       "      <td>Ready To Move</td>\n",
       "      <td>Kothanur</td>\n",
       "      <td>2 BHK</td>\n",
       "      <td>NaN</td>\n",
       "      <td>1200</td>\n",
       "      <td>2.0</td>\n",
       "      <td>1.0</td>\n",
       "      <td>51.00</td>\n",
       "    </tr>\n",
       "  </tbody>\n",
       "</table>\n",
       "</div>"
      ],
      "text/plain": [
       "              area_type   availability                  location       size  \\\n",
       "0  Super built-up  Area         19-Dec  Electronic City Phase II      2 BHK   \n",
       "1            Plot  Area  Ready To Move          Chikka Tirupathi  4 Bedroom   \n",
       "2        Built-up  Area  Ready To Move               Uttarahalli      3 BHK   \n",
       "3  Super built-up  Area  Ready To Move        Lingadheeranahalli      3 BHK   \n",
       "4  Super built-up  Area  Ready To Move                  Kothanur      2 BHK   \n",
       "\n",
       "   society total_sqft  bath  balcony   price  \n",
       "0  Coomee        1056   2.0      1.0   39.07  \n",
       "1  Theanmp       2600   5.0      3.0  120.00  \n",
       "2      NaN       1440   2.0      3.0   62.00  \n",
       "3  Soiewre       1521   3.0      1.0   95.00  \n",
       "4      NaN       1200   2.0      1.0   51.00  "
      ]
     },
     "execution_count": 145,
     "metadata": {},
     "output_type": "execute_result"
    }
   ],
   "source": [
    "df.head()"
   ]
  },
  {
   "cell_type": "code",
   "execution_count": 146,
   "id": "ff523b1b",
   "metadata": {},
   "outputs": [],
   "source": [
    "df1 = df.drop(['area_type','availability','society','balcony'],axis = 'columns')"
   ]
  },
  {
   "cell_type": "code",
   "execution_count": 147,
   "id": "ce09b7cc",
   "metadata": {},
   "outputs": [
    {
     "data": {
      "text/html": [
       "<div>\n",
       "<style scoped>\n",
       "    .dataframe tbody tr th:only-of-type {\n",
       "        vertical-align: middle;\n",
       "    }\n",
       "\n",
       "    .dataframe tbody tr th {\n",
       "        vertical-align: top;\n",
       "    }\n",
       "\n",
       "    .dataframe thead th {\n",
       "        text-align: right;\n",
       "    }\n",
       "</style>\n",
       "<table border=\"1\" class=\"dataframe\">\n",
       "  <thead>\n",
       "    <tr style=\"text-align: right;\">\n",
       "      <th></th>\n",
       "      <th>location</th>\n",
       "      <th>size</th>\n",
       "      <th>total_sqft</th>\n",
       "      <th>bath</th>\n",
       "      <th>price</th>\n",
       "    </tr>\n",
       "  </thead>\n",
       "  <tbody>\n",
       "    <tr>\n",
       "      <th>0</th>\n",
       "      <td>Electronic City Phase II</td>\n",
       "      <td>2 BHK</td>\n",
       "      <td>1056</td>\n",
       "      <td>2.0</td>\n",
       "      <td>39.07</td>\n",
       "    </tr>\n",
       "    <tr>\n",
       "      <th>1</th>\n",
       "      <td>Chikka Tirupathi</td>\n",
       "      <td>4 Bedroom</td>\n",
       "      <td>2600</td>\n",
       "      <td>5.0</td>\n",
       "      <td>120.00</td>\n",
       "    </tr>\n",
       "    <tr>\n",
       "      <th>2</th>\n",
       "      <td>Uttarahalli</td>\n",
       "      <td>3 BHK</td>\n",
       "      <td>1440</td>\n",
       "      <td>2.0</td>\n",
       "      <td>62.00</td>\n",
       "    </tr>\n",
       "    <tr>\n",
       "      <th>3</th>\n",
       "      <td>Lingadheeranahalli</td>\n",
       "      <td>3 BHK</td>\n",
       "      <td>1521</td>\n",
       "      <td>3.0</td>\n",
       "      <td>95.00</td>\n",
       "    </tr>\n",
       "    <tr>\n",
       "      <th>4</th>\n",
       "      <td>Kothanur</td>\n",
       "      <td>2 BHK</td>\n",
       "      <td>1200</td>\n",
       "      <td>2.0</td>\n",
       "      <td>51.00</td>\n",
       "    </tr>\n",
       "  </tbody>\n",
       "</table>\n",
       "</div>"
      ],
      "text/plain": [
       "                   location       size total_sqft  bath   price\n",
       "0  Electronic City Phase II      2 BHK       1056   2.0   39.07\n",
       "1          Chikka Tirupathi  4 Bedroom       2600   5.0  120.00\n",
       "2               Uttarahalli      3 BHK       1440   2.0   62.00\n",
       "3        Lingadheeranahalli      3 BHK       1521   3.0   95.00\n",
       "4                  Kothanur      2 BHK       1200   2.0   51.00"
      ]
     },
     "execution_count": 147,
     "metadata": {},
     "output_type": "execute_result"
    }
   ],
   "source": [
    "df1.head()"
   ]
  },
  {
   "cell_type": "code",
   "execution_count": 148,
   "id": "47292b19",
   "metadata": {},
   "outputs": [
    {
     "data": {
      "text/plain": [
       "location       1\n",
       "size          16\n",
       "total_sqft     0\n",
       "bath          73\n",
       "price          0\n",
       "dtype: int64"
      ]
     },
     "execution_count": 148,
     "metadata": {},
     "output_type": "execute_result"
    }
   ],
   "source": [
    "#check for null values\n",
    "df1.isnull().sum()"
   ]
  },
  {
   "cell_type": "code",
   "execution_count": 149,
   "id": "ac000399",
   "metadata": {},
   "outputs": [],
   "source": [
    "df1.dropna(inplace = True)"
   ]
  },
  {
   "cell_type": "code",
   "execution_count": 150,
   "id": "48d77f4a",
   "metadata": {},
   "outputs": [
    {
     "data": {
      "text/plain": [
       "array(['2 BHK', '4 Bedroom', '3 BHK', '4 BHK', '6 Bedroom', '3 Bedroom',\n",
       "       '1 BHK', '1 RK', '1 Bedroom', '8 Bedroom', '2 Bedroom',\n",
       "       '7 Bedroom', '5 BHK', '7 BHK', '6 BHK', '5 Bedroom', '11 BHK',\n",
       "       '9 BHK', '9 Bedroom', '27 BHK', '10 Bedroom', '11 Bedroom',\n",
       "       '10 BHK', '19 BHK', '16 BHK', '43 Bedroom', '14 BHK', '8 BHK',\n",
       "       '12 Bedroom', '13 BHK', '18 Bedroom'], dtype=object)"
      ]
     },
     "execution_count": 150,
     "metadata": {},
     "output_type": "execute_result"
    }
   ],
   "source": [
    "df1['size'].unique()"
   ]
  },
  {
   "cell_type": "code",
   "execution_count": 151,
   "id": "849e9c18",
   "metadata": {},
   "outputs": [],
   "source": [
    "df1['bhk'] = df1['size'].apply(lambda x : int(x.split(' ')[0]))"
   ]
  },
  {
   "cell_type": "code",
   "execution_count": 152,
   "id": "07663d53",
   "metadata": {},
   "outputs": [
    {
     "data": {
      "text/html": [
       "<div>\n",
       "<style scoped>\n",
       "    .dataframe tbody tr th:only-of-type {\n",
       "        vertical-align: middle;\n",
       "    }\n",
       "\n",
       "    .dataframe tbody tr th {\n",
       "        vertical-align: top;\n",
       "    }\n",
       "\n",
       "    .dataframe thead th {\n",
       "        text-align: right;\n",
       "    }\n",
       "</style>\n",
       "<table border=\"1\" class=\"dataframe\">\n",
       "  <thead>\n",
       "    <tr style=\"text-align: right;\">\n",
       "      <th></th>\n",
       "      <th>location</th>\n",
       "      <th>size</th>\n",
       "      <th>total_sqft</th>\n",
       "      <th>bath</th>\n",
       "      <th>price</th>\n",
       "      <th>bhk</th>\n",
       "    </tr>\n",
       "  </thead>\n",
       "  <tbody>\n",
       "    <tr>\n",
       "      <th>0</th>\n",
       "      <td>Electronic City Phase II</td>\n",
       "      <td>2 BHK</td>\n",
       "      <td>1056</td>\n",
       "      <td>2.0</td>\n",
       "      <td>39.07</td>\n",
       "      <td>2</td>\n",
       "    </tr>\n",
       "    <tr>\n",
       "      <th>1</th>\n",
       "      <td>Chikka Tirupathi</td>\n",
       "      <td>4 Bedroom</td>\n",
       "      <td>2600</td>\n",
       "      <td>5.0</td>\n",
       "      <td>120.00</td>\n",
       "      <td>4</td>\n",
       "    </tr>\n",
       "    <tr>\n",
       "      <th>2</th>\n",
       "      <td>Uttarahalli</td>\n",
       "      <td>3 BHK</td>\n",
       "      <td>1440</td>\n",
       "      <td>2.0</td>\n",
       "      <td>62.00</td>\n",
       "      <td>3</td>\n",
       "    </tr>\n",
       "    <tr>\n",
       "      <th>3</th>\n",
       "      <td>Lingadheeranahalli</td>\n",
       "      <td>3 BHK</td>\n",
       "      <td>1521</td>\n",
       "      <td>3.0</td>\n",
       "      <td>95.00</td>\n",
       "      <td>3</td>\n",
       "    </tr>\n",
       "    <tr>\n",
       "      <th>4</th>\n",
       "      <td>Kothanur</td>\n",
       "      <td>2 BHK</td>\n",
       "      <td>1200</td>\n",
       "      <td>2.0</td>\n",
       "      <td>51.00</td>\n",
       "      <td>2</td>\n",
       "    </tr>\n",
       "  </tbody>\n",
       "</table>\n",
       "</div>"
      ],
      "text/plain": [
       "                   location       size total_sqft  bath   price  bhk\n",
       "0  Electronic City Phase II      2 BHK       1056   2.0   39.07    2\n",
       "1          Chikka Tirupathi  4 Bedroom       2600   5.0  120.00    4\n",
       "2               Uttarahalli      3 BHK       1440   2.0   62.00    3\n",
       "3        Lingadheeranahalli      3 BHK       1521   3.0   95.00    3\n",
       "4                  Kothanur      2 BHK       1200   2.0   51.00    2"
      ]
     },
     "execution_count": 152,
     "metadata": {},
     "output_type": "execute_result"
    }
   ],
   "source": [
    "df1.head()"
   ]
  },
  {
   "cell_type": "code",
   "execution_count": 153,
   "id": "14cecf36",
   "metadata": {},
   "outputs": [
    {
     "data": {
      "text/plain": [
       "array([ 2,  4,  3,  6,  1,  8,  7,  5, 11,  9, 27, 10, 19, 16, 43, 14, 12,\n",
       "       13, 18])"
      ]
     },
     "execution_count": 153,
     "metadata": {},
     "output_type": "execute_result"
    }
   ],
   "source": [
    "df1['bhk'].unique()"
   ]
  },
  {
   "cell_type": "code",
   "execution_count": 154,
   "id": "d4ec7cf2",
   "metadata": {},
   "outputs": [
    {
     "data": {
      "text/html": [
       "<div>\n",
       "<style scoped>\n",
       "    .dataframe tbody tr th:only-of-type {\n",
       "        vertical-align: middle;\n",
       "    }\n",
       "\n",
       "    .dataframe tbody tr th {\n",
       "        vertical-align: top;\n",
       "    }\n",
       "\n",
       "    .dataframe thead th {\n",
       "        text-align: right;\n",
       "    }\n",
       "</style>\n",
       "<table border=\"1\" class=\"dataframe\">\n",
       "  <thead>\n",
       "    <tr style=\"text-align: right;\">\n",
       "      <th></th>\n",
       "      <th>location</th>\n",
       "      <th>size</th>\n",
       "      <th>total_sqft</th>\n",
       "      <th>bath</th>\n",
       "      <th>price</th>\n",
       "      <th>bhk</th>\n",
       "    </tr>\n",
       "  </thead>\n",
       "  <tbody>\n",
       "    <tr>\n",
       "      <th>1718</th>\n",
       "      <td>2Electronic City Phase II</td>\n",
       "      <td>27 BHK</td>\n",
       "      <td>8000</td>\n",
       "      <td>27.0</td>\n",
       "      <td>230.0</td>\n",
       "      <td>27</td>\n",
       "    </tr>\n",
       "    <tr>\n",
       "      <th>4684</th>\n",
       "      <td>Munnekollal</td>\n",
       "      <td>43 Bedroom</td>\n",
       "      <td>2400</td>\n",
       "      <td>40.0</td>\n",
       "      <td>660.0</td>\n",
       "      <td>43</td>\n",
       "    </tr>\n",
       "  </tbody>\n",
       "</table>\n",
       "</div>"
      ],
      "text/plain": [
       "                       location        size total_sqft  bath  price  bhk\n",
       "1718  2Electronic City Phase II      27 BHK       8000  27.0  230.0   27\n",
       "4684                Munnekollal  43 Bedroom       2400  40.0  660.0   43"
      ]
     },
     "execution_count": 154,
     "metadata": {},
     "output_type": "execute_result"
    }
   ],
   "source": [
    "df1[df1['bhk']>20]"
   ]
  },
  {
   "cell_type": "code",
   "execution_count": 155,
   "id": "cecdac7a",
   "metadata": {},
   "outputs": [
    {
     "data": {
      "text/plain": [
       "array(['1056', '2600', '1440', ..., '1133 - 1384', '774', '4689'],\n",
       "      dtype=object)"
      ]
     },
     "execution_count": 155,
     "metadata": {},
     "output_type": "execute_result"
    }
   ],
   "source": [
    "df1['total_sqft'].unique()"
   ]
  },
  {
   "cell_type": "code",
   "execution_count": 156,
   "id": "427cf1a6",
   "metadata": {},
   "outputs": [],
   "source": [
    "def is_float(x):\n",
    "    try:\n",
    "        float(x)\n",
    "    except:\n",
    "        return False\n",
    "    return True"
   ]
  },
  {
   "cell_type": "code",
   "execution_count": 157,
   "id": "042f82a4",
   "metadata": {},
   "outputs": [
    {
     "data": {
      "text/plain": [
       "location                                      size       total_sqft         bath  price    bhk\n",
       "Whitefield                                    4 BHK      2830 - 2882        5.0   154.500  4      2\n",
       " Rachenahalli                                 1 RK       385 - 440          1.0   19.800   1      1\n",
       "Pragathi Nagar                                1 BHK      799 - 803          1.0   33.645   1      1\n",
       "Rajaji Nagar                                  4 BHK      2563 - 2733        5.0   251.500  4      1\n",
       "Rajapura                                      2 BHK      86.72Sq. Meter     2.0   40.000   2      1\n",
       "Ramamurthy Nagar                              1 Bedroom  1Grounds           1.0   48.000   1      1\n",
       "Sarjapur                                      1 BHK      633 - 666          1.0   17.535   1      1\n",
       "                                              2 BHK      1145 - 1340        2.0   43.490   2      1\n",
       "                                              3 Bedroom  1574Sq. Yards      3.0   76.000   3      1\n",
       "                                              4 Bedroom  2580 - 2591        4.0   115.000  4      1\n",
       "                                                                                  139.500  4      1\n",
       "                                                         3508 - 4201        6.0   385.500  4      1\n",
       "Sarjapur  Road                                1 BHK      580 - 650          1.0   17.835   1      1\n",
       "                                              2 BHK      870 - 1080         2.0   28.275   2      1\n",
       "                                              3 BHK      1270 - 1275        2.0   40.720   3      1\n",
       "                                              4 BHK      3425 - 3435        6.0   228.500  4      1\n",
       "                                              4 Bedroom  3307 - 3464        6.0   142.000  4      1\n",
       "                                                         3369 - 3464        6.0   143.000  4      1\n",
       "Singapura Village                             2 BHK      1100Sq. Yards      2.0   45.000   2      1\n",
       "Singena Agrahara                              3 Bedroom  1500Sq. Meter      3.0   95.000   3      1\n",
       "Sonnenahalli                                  1 BHK      605 - 624          1.0   30.715   1      1\n",
       "Talaghattapura                                3 BHK      1804 - 2273        3.0   120.000  3      1\n",
       "                                                                                  122.000  3      1\n",
       "Rachenahalli                                  1 BHK      660 - 700          1.0   32.640   1      1\n",
       "Panathur                                      3 BHK      1565 - 1595        3.0   71.890   3      1\n",
       "Thanisandra                                   1 BHK      620 - 934          1.0   38.535   1      1\n",
       "Omarbagh Layout                               4 BHK      3300 - 3335        5.0   268.500  4      1\n",
       "Kanakpura Road                                1 BHK      381 - 535          1.0   33.660   1      1\n",
       "                                                         670 - 980          1.0   36.290   1      1\n",
       "                                              1 Bedroom  1.26Acres          1.0   125.000  1      1\n",
       "                                                         2Acres             1.0   125.000  1      1\n",
       "                                              2 BHK      1010 - 1300        2.0   50.125   2      1\n",
       "Kannur                                        6 Bedroom  3Cents             6.0   75.000   6      1\n",
       "Kengeri                                       1 BHK      34.46Sq. Meter     1.0   18.500   1      1\n",
       "Kengeri Satellite Town                        2 BHK      1255 - 1350        2.0   44.285   2      1\n",
       "Langford Town                                 4 BHK      697Sq. Meter       4.0   211.000  4      1\n",
       "Magadi Road                                   2 BHK      884 - 1116         2.0   46.500   2      1\n",
       "                                              3 BHK      1052 - 1322        2.0   55.195   3      1\n",
       "Marathi Layout                                1 Bedroom  5.31Acres          1.0   110.000  1      1\n",
       "Mysore Road                                   2 BHK      942 - 1117         2.0   50.855   2      1\n",
       "                                                         980 - 1030         2.0   35.175   2      1\n",
       "Narasapura                                    2 Bedroom  30Acres            2.0   29.500   2      1\n",
       "Old Madras Road                               4 BHK      3630 - 3800        6.0   200.500  4      1\n",
       "                                                                                  212.500  4      1\n",
       "                                                                                  224.500  4      1\n",
       "                                              5 BHK      4500 - 5540        7.0   287.000  5      1\n",
       "Thanisandra                                   1 BHK      620 - 934          1.0   38.460   1      1\n",
       "                                                         684 - 810          1.0   34.355   1      1\n",
       "Kanakapura                                    1 BHK      712 - 938          1.0   35.475   1      1\n",
       "Yelahanka                                     1 BHK      629 - 1026         1.0   42.535   1      1\n",
       "Whitefield                                    2 BHK      981 - 1249         2.0   34.555   2      1\n",
       "                                              3 BHK      1235 - 1410        3.0   40.985   3      1\n",
       "                                                         1520 - 1759        3.0   92.630   3      1\n",
       "                                              4 BHK      2528 - 3188        4.0   137.000  4      1\n",
       "                                                         2830 - 2882        5.0   145.500  4      1\n",
       "                                                                                  157.500  4      1\n",
       "                                                                                  158.500  4      1\n",
       "                                                         361.33Sq. Yards    4.0   270.000  4      1\n",
       "                                              4 Bedroom  500Sq. Yards       4.0   378.000  4      1\n",
       "Yelahanka                                     2 BHK      1120 - 1145        2.0   48.130   2      1\n",
       "Thanisandra                                   1 BHK      763 - 805          1.0   35.285   1      1\n",
       "Yelahanka                                     2 BHK      1140 - 1250        2.0   53.105   2      1\n",
       "                                                         1180 - 1630        2.0   50.580   2      1\n",
       "                                              3 BHK      1445 - 1455        3.0   65.255   3      1\n",
       "                                              4 BHK      2100 - 2850        4.0   186.000  4      1\n",
       "                                                         2806 - 3019        6.0   125.500  4      1\n",
       "Yelahanka New Town                            1 BHK      45.06Sq. Meter     2.0   18.000   1      1\n",
       "Yeshwanthpur                                  1 BHK      540 - 670          1.0   41.745   1      1\n",
       "                                              2 BHK      1250 - 1305        2.0   95.815   2      1\n",
       "                                                         704 - 730          2.0   49.475   2      1\n",
       "Whitefield                                    2 BHK      850 - 1060         2.0   38.190   2      1\n",
       "                                              1 BHK      613 - 648          1.0   32.790   1      1\n",
       "                                                                                  32.150   1      1\n",
       "                                                         540 - 740          1.0   19.830   1      1\n",
       "Thanisandra                                   2 BHK      1000 - 1285        2.0   43.415   2      1\n",
       "                                                         1079 - 1183        2.0   55.975   2      1\n",
       "                                                         850 - 1093         2.0   36.435   2      1\n",
       "                                                         934 - 1437         2.0   58.680   2      1\n",
       "                                              3 BHK      1349 - 3324        3.0   115.890  3      1\n",
       "                                                         1437 - 1629        3.0   75.885   3      1\n",
       "                                                         204Sq. Meter       4.0   185.000  3      1\n",
       "Thyagaraja Nagar                              8 Bedroom  1500Cents          6.0   290.000  8      1\n",
       "Tumkur Road                                   1 BHK      596 - 804          1.0   30.090   1      1\n",
       "                                                         596 - 861          1.0   31.315   1      1\n",
       "                                              2 BHK      1076 - 1199        2.0   48.905   2      1\n",
       "                                              3 BHK      1210 - 1477        3.0   57.760   3      1\n",
       "Uttarahalli                                   3 BHK      1125 - 1500        3.0   51.190   3      1\n",
       "V.V Puram                                     3 BHK      151.11Sq. Yards    2.0   150.000  3      1\n",
       "Varthur Road                                  1 BHK      540 - 565          1.0   13.260   1      1\n",
       "                                              2 BHK      770 - 841          2.0   19.330   2      1\n",
       "Volagerekallahalli                            2 BHK      117Sq. Yards       2.0   38.000   2      1\n",
       "Whitefield                                    1 BHK      524 - 894          1.0   34.385   1      1\n",
       "                                                                                  34.735   1      1\n",
       "Kanakpura Road                                1 BHK      381 - 535          1.0   19.695   1      1\n",
       "Kammasandra                                   1 BHK      650 - 665          1.0   18.410   1      1\n",
       "1st Phase JP Nagar                            1 BHK      78.03Sq. Meter     1.0   63.000   1      1\n",
       "Chamrajpet                                    9 BHK      716Sq. Meter       9.0   296.000  9      1\n",
       "Billamaranahalli                              2 Bedroom  300Sq. Yards       2.0   150.000  2      1\n",
       "Bommanahalli                                  2 BHK      1215 - 1495        2.0   73.170   2      1\n",
       "Bommenahalli                                  3 Bedroom  15Acres            3.0   217.000  3      1\n",
       "                                                         2940Sq. Yards      3.0   232.000  3      1\n",
       "Budigere                                      1 BHK      650 - 760          1.0   34.545   1      1\n",
       "                                                         664 - 722          1.0   27.375   1      1\n",
       "                                              2 BHK      1150 - 1194        2.0   56.725   2      1\n",
       "                                              3 BHK      1510 - 1670        3.0   76.160   3      1\n",
       "Carmelaram                                    3 BHK      1660 - 1805        3.0   91.855   3      1\n",
       "Chandapura                                    1 BHK      520 - 645          1.0   15.135   1      1\n",
       "Begur Road                                    4 BHK      2462 - 2467        6.0   118.000  4      1\n",
       "Chandapura                                    2 BHK      598 - 958          2.0   25.290   2      1\n",
       "Chickpet                                      2 BHK      122Sq. Yards       2.0   48.000   2      1\n",
       "Devanahalli                                   1 BHK      655 - 742          1.0   28.570   1      1\n",
       "                                              2 BHK      1230 - 1490        2.0   62.425   2      1\n",
       "                                              3 BHK      1450 - 1950        3.0   88.200   3      1\n",
       "                                              4 Bedroom  4900 - 4940        4.0   393.500  4      1\n",
       "Dodda Banaswadi                               5 Bedroom  3040Sq. Meter      5.0   140.000  5      1\n",
       "Doddaballapur                                 3 BHK      1100Sq. Meter      2.0   48.000   3      1\n",
       "EPIP Zone                                     4 BHK      2710 - 3360        5.0   200.000  4      1\n",
       "Bettahalsoor                                  4 Bedroom  3090 - 5002        4.0   445.000  4      1\n",
       "Begur Road                                    4 BHK      2400 - 2600        6.0   122.500  4      1\n",
       "Kadugodi                                      1 BHK      840 - 1010         1.0   40.700   1      1\n",
       "Balagere                                      1 BHK      645 - 936          1.0   41.900   1      1\n",
       "2 Bedroom Furnished Farm House in Kolar Road  2 Bedroom  1.25Acres          2.0   200.000  2      1\n",
       "5 Bedroom Farm House in Lakshmipura           5 Bedroom  24Guntha           6.0   550.000  5      1\n",
       "7th Phase JP Nagar                            2 BHK      120Sq. Yards       2.0   51.000   2      1\n",
       "8th Phase JP Nagar                            2 BHK      1042 - 1105        2.0   54.005   2      1\n",
       "                                              3 BHK      1408 - 1455        3.0   72.020   3      1\n",
       "Anwar Layout                                  1 BHK      660 - 780          1.0   32.390   1      1\n",
       "Arekere                                       9 Bedroom  4125Perch          9.0   265.000  9      1\n",
       "Arishinakunte                                 1 Bedroom  38Guntha           1.0   170.000  1      1\n",
       "BTM Layout                                    3 BHK      167Sq. Meter       3.0   10.000   3      1\n",
       "Balagere                                      1 BHK      645 - 936          1.0   42.295   1      1\n",
       "Basavanagara                                  1 BHK      1000Sq. Meter      2.0   93.000   1      1\n",
       "Banashankari Stage VI                         2 BHK      1160 - 1195        2.0   59.935   2      1\n",
       "                                              3 BHK      1400 - 1421        2.0   70.385   3      1\n",
       "Bannerghatta Road                             2 BHK      1115 - 1130        2.0   58.935   2      1\n",
       "                                                                                  61.740   2      1\n",
       "                                                         1160 - 1315        2.0   49.490   2      1\n",
       "                                                         1255 - 1350        2.0   67.730   2      1\n",
       "                                              3 BHK      1365 - 1700        3.0   79.465   3      1\n",
       "                                                                                  84.290   3      1\n",
       "                                              4 BHK      315Sq. Yards       5.0   260.000  4      1\n",
       "Electronic City Phase II                      2 BHK      888 - 1290         2.0   32.670   2      1\n",
       "                                              4 BHK      2150 - 2225        4.0   105.000  4      1\n",
       "Electronics City Phase 1                      1 BHK      755 - 770          1.0   45.400   1      1\n",
       "JP Nagar                                      4 BHK      4000 - 5249        4.0   314.500  4      1\n",
       "Hoskote                                       2 BHK      929 - 1078         2.0   28.095   2      1\n",
       "Hosur Road                                    4 BHK      2800 - 2870        4.0   241.000  4      1\n",
       "Hulimavu                                      2 BHK      1255 - 1375        2.0   60.480   2      1\n",
       "                                                         132Sq. Yards       2.0   46.000   2      1\n",
       "ITPL                                          2 BHK      854 - 960          2.0   55.430   2      1\n",
       "                                              4 BHK      5666 - 5669        5.0   300.000  4      1\n",
       "Iblur Village                                 4 BHK      2725 - 3250        5.0   191.000  4      1\n",
       "JP Nagar                                      2 BHK      1300 - 1405        2.0   93.865   2      1\n",
       "                                              3 BHK      84.53Sq. Meter     3.0   69.340   3      1\n",
       "Jakkur                                        2 BHK      1230 - 1290        2.0   71.195   2      1\n",
       "Frazer Town                                   3 BHK      188.89Sq. Yards    3.0   180.000  3      1\n",
       "Jakkur                                        4 BHK      2249.81 - 4112.19  4.0   260.500  4      1\n",
       "Jalahalli                                     1 BHK      610 - 615          1.0   27.565   1      1\n",
       "Jalahalli East                                1 BHK      750 - 800          1.0   34.100   1      1\n",
       "Jigani                                        4 Bedroom  133.3Sq. Yards     3.0   160.000  4      1\n",
       "Judicial Layout                               5 Bedroom  45Sq. Yards        6.0   400.000  5      1\n",
       "KR Puram                                      2 BHK      1015 - 1540        2.0   56.800   2      1\n",
       "                                                         1070 - 1315        2.0   51.220   2      1\n",
       "                                              3 BHK      1005.03 - 1252.49  3.0   47.405   3      1\n",
       "                                                         1255 - 1863        3.0   69.315   3      1\n",
       "Hosa Road                                     3 BHK      142.84Sq. Meter    3.0   110.000  3      1\n",
       "                                                         142.61Sq. Meter    3.0   115.000  3      1\n",
       "                                                                                  109.000  3      1\n",
       "                                              2 BHK      1004 - 1204        2.0   36.430   2      1\n",
       "Gowdanapalya                                  5 BHK      24Sq. Meter        5.0   75.000   5      1\n",
       "Harlur                                        2 BHK      1200 - 1470        2.0   72.760   2      1\n",
       "                                              4 BHK      2650 - 2990        4.0   153.500  4      1\n",
       "Harohalli                                     2 Bedroom  2.09Acres          2.0   200.000  2      1\n",
       "Hebbal                                        2 BHK      547.34 - 827.31    2.0   42.720   2      1\n",
       "                                              4 BHK      2470 - 2790        5.0   188.000  4      1\n",
       "                                                         3067 - 8156        4.0   477.000  4      1\n",
       "                                                         4000 - 4450        6.0   359.000  4      1\n",
       "Hennur                                        3 BHK      1783 - 1878        3.0   84.205   3      1\n",
       "Hennur Road                                   2 BHK      1195 - 1440        2.0   63.770   2      1\n",
       "                                              3 BHK      1550 - 1590        3.0   75.990   3      1\n",
       "Hoodi                                         1 BHK      706 - 716          1.0   42.650   1      1\n",
       "                                                         783 - 943          1.0   40.550   1      1\n",
       "                                              2 BHK      1133 - 1384        2.0   59.135   2      1\n",
       "                                              4 BHK      2041 - 2090        4.0   91.915   4      1\n",
       "Hormavu                                       1 BHK      527 - 639          1.0   28.275   1      1\n",
       "                                              2 BHK      943 - 1220         2.0   38.665   2      1\n",
       "                                              3 BHK      1469 - 1766        3.0   73.595   3      1\n",
       "Hosa Road                                     1 BHK      615 - 985          1.0   39.990   1      1\n",
       "arudi                                         3 Bedroom  6Acres             2.0   80.000   3      1\n",
       "dtype: int64"
      ]
     },
     "execution_count": 157,
     "metadata": {},
     "output_type": "execute_result"
    }
   ],
   "source": [
    "df1[~df1['total_sqft'].apply(lambda x: is_float(x))].value_counts()"
   ]
  },
  {
   "cell_type": "code",
   "execution_count": 158,
   "id": "c5e54cdf",
   "metadata": {},
   "outputs": [
    {
     "data": {
      "text/plain": [
       "False    12365\n",
       "True       881\n",
       "dtype: int64"
      ]
     },
     "execution_count": 158,
     "metadata": {},
     "output_type": "execute_result"
    }
   ],
   "source": [
    "df1.duplicated().value_counts()"
   ]
  },
  {
   "cell_type": "code",
   "execution_count": 159,
   "id": "29501564",
   "metadata": {},
   "outputs": [],
   "source": [
    "def change(x):\n",
    "    data = x.split('-')\n",
    "    if(len(data)==2):\n",
    "        return((float(data[0])+float(data[1]))//2)\n",
    "    try:\n",
    "        return float(x)\n",
    "    except:\n",
    "        return None"
   ]
  },
  {
   "cell_type": "code",
   "execution_count": 160,
   "id": "c17641dd",
   "metadata": {},
   "outputs": [
    {
     "data": {
      "text/plain": [
       "777.0"
      ]
     },
     "execution_count": 160,
     "metadata": {},
     "output_type": "execute_result"
    }
   ],
   "source": [
    "change('777')"
   ]
  },
  {
   "cell_type": "code",
   "execution_count": 161,
   "id": "63548b85",
   "metadata": {},
   "outputs": [],
   "source": [
    "#now data cleaning on the data.\n",
    "df2 = df1.copy()\n",
    "df2['total_sqft'] =df1['total_sqft'].apply(lambda x : change(x))"
   ]
  },
  {
   "cell_type": "code",
   "execution_count": 162,
   "id": "ea77b1a7",
   "metadata": {},
   "outputs": [
    {
     "data": {
      "text/html": [
       "<div>\n",
       "<style scoped>\n",
       "    .dataframe tbody tr th:only-of-type {\n",
       "        vertical-align: middle;\n",
       "    }\n",
       "\n",
       "    .dataframe tbody tr th {\n",
       "        vertical-align: top;\n",
       "    }\n",
       "\n",
       "    .dataframe thead th {\n",
       "        text-align: right;\n",
       "    }\n",
       "</style>\n",
       "<table border=\"1\" class=\"dataframe\">\n",
       "  <thead>\n",
       "    <tr style=\"text-align: right;\">\n",
       "      <th></th>\n",
       "      <th>location</th>\n",
       "      <th>size</th>\n",
       "      <th>total_sqft</th>\n",
       "      <th>bath</th>\n",
       "      <th>price</th>\n",
       "      <th>bhk</th>\n",
       "    </tr>\n",
       "  </thead>\n",
       "  <tbody>\n",
       "    <tr>\n",
       "      <th>0</th>\n",
       "      <td>Electronic City Phase II</td>\n",
       "      <td>2 BHK</td>\n",
       "      <td>1056.0</td>\n",
       "      <td>2.0</td>\n",
       "      <td>39.07</td>\n",
       "      <td>2</td>\n",
       "    </tr>\n",
       "    <tr>\n",
       "      <th>1</th>\n",
       "      <td>Chikka Tirupathi</td>\n",
       "      <td>4 Bedroom</td>\n",
       "      <td>2600.0</td>\n",
       "      <td>5.0</td>\n",
       "      <td>120.00</td>\n",
       "      <td>4</td>\n",
       "    </tr>\n",
       "    <tr>\n",
       "      <th>2</th>\n",
       "      <td>Uttarahalli</td>\n",
       "      <td>3 BHK</td>\n",
       "      <td>1440.0</td>\n",
       "      <td>2.0</td>\n",
       "      <td>62.00</td>\n",
       "      <td>3</td>\n",
       "    </tr>\n",
       "    <tr>\n",
       "      <th>3</th>\n",
       "      <td>Lingadheeranahalli</td>\n",
       "      <td>3 BHK</td>\n",
       "      <td>1521.0</td>\n",
       "      <td>3.0</td>\n",
       "      <td>95.00</td>\n",
       "      <td>3</td>\n",
       "    </tr>\n",
       "    <tr>\n",
       "      <th>4</th>\n",
       "      <td>Kothanur</td>\n",
       "      <td>2 BHK</td>\n",
       "      <td>1200.0</td>\n",
       "      <td>2.0</td>\n",
       "      <td>51.00</td>\n",
       "      <td>2</td>\n",
       "    </tr>\n",
       "  </tbody>\n",
       "</table>\n",
       "</div>"
      ],
      "text/plain": [
       "                   location       size  total_sqft  bath   price  bhk\n",
       "0  Electronic City Phase II      2 BHK      1056.0   2.0   39.07    2\n",
       "1          Chikka Tirupathi  4 Bedroom      2600.0   5.0  120.00    4\n",
       "2               Uttarahalli      3 BHK      1440.0   2.0   62.00    3\n",
       "3        Lingadheeranahalli      3 BHK      1521.0   3.0   95.00    3\n",
       "4                  Kothanur      2 BHK      1200.0   2.0   51.00    2"
      ]
     },
     "execution_count": 162,
     "metadata": {},
     "output_type": "execute_result"
    }
   ],
   "source": [
    "df2.head()"
   ]
  },
  {
   "cell_type": "code",
   "execution_count": 163,
   "id": "5c80516d",
   "metadata": {},
   "outputs": [],
   "source": [
    "df3 = df2.copy()\n",
    "df3['price_per_sq'] = df3['price']*100000/df3['total_sqft']"
   ]
  },
  {
   "cell_type": "code",
   "execution_count": 164,
   "id": "c8aead13",
   "metadata": {},
   "outputs": [
    {
     "data": {
      "text/html": [
       "<div>\n",
       "<style scoped>\n",
       "    .dataframe tbody tr th:only-of-type {\n",
       "        vertical-align: middle;\n",
       "    }\n",
       "\n",
       "    .dataframe tbody tr th {\n",
       "        vertical-align: top;\n",
       "    }\n",
       "\n",
       "    .dataframe thead th {\n",
       "        text-align: right;\n",
       "    }\n",
       "</style>\n",
       "<table border=\"1\" class=\"dataframe\">\n",
       "  <thead>\n",
       "    <tr style=\"text-align: right;\">\n",
       "      <th></th>\n",
       "      <th>location</th>\n",
       "      <th>size</th>\n",
       "      <th>total_sqft</th>\n",
       "      <th>bath</th>\n",
       "      <th>price</th>\n",
       "      <th>bhk</th>\n",
       "      <th>price_per_sq</th>\n",
       "    </tr>\n",
       "  </thead>\n",
       "  <tbody>\n",
       "    <tr>\n",
       "      <th>0</th>\n",
       "      <td>Electronic City Phase II</td>\n",
       "      <td>2 BHK</td>\n",
       "      <td>1056.0</td>\n",
       "      <td>2.0</td>\n",
       "      <td>39.07</td>\n",
       "      <td>2</td>\n",
       "      <td>3699.810606</td>\n",
       "    </tr>\n",
       "    <tr>\n",
       "      <th>1</th>\n",
       "      <td>Chikka Tirupathi</td>\n",
       "      <td>4 Bedroom</td>\n",
       "      <td>2600.0</td>\n",
       "      <td>5.0</td>\n",
       "      <td>120.00</td>\n",
       "      <td>4</td>\n",
       "      <td>4615.384615</td>\n",
       "    </tr>\n",
       "    <tr>\n",
       "      <th>2</th>\n",
       "      <td>Uttarahalli</td>\n",
       "      <td>3 BHK</td>\n",
       "      <td>1440.0</td>\n",
       "      <td>2.0</td>\n",
       "      <td>62.00</td>\n",
       "      <td>3</td>\n",
       "      <td>4305.555556</td>\n",
       "    </tr>\n",
       "    <tr>\n",
       "      <th>3</th>\n",
       "      <td>Lingadheeranahalli</td>\n",
       "      <td>3 BHK</td>\n",
       "      <td>1521.0</td>\n",
       "      <td>3.0</td>\n",
       "      <td>95.00</td>\n",
       "      <td>3</td>\n",
       "      <td>6245.890861</td>\n",
       "    </tr>\n",
       "    <tr>\n",
       "      <th>4</th>\n",
       "      <td>Kothanur</td>\n",
       "      <td>2 BHK</td>\n",
       "      <td>1200.0</td>\n",
       "      <td>2.0</td>\n",
       "      <td>51.00</td>\n",
       "      <td>2</td>\n",
       "      <td>4250.000000</td>\n",
       "    </tr>\n",
       "  </tbody>\n",
       "</table>\n",
       "</div>"
      ],
      "text/plain": [
       "                   location       size  total_sqft  bath   price  bhk  \\\n",
       "0  Electronic City Phase II      2 BHK      1056.0   2.0   39.07    2   \n",
       "1          Chikka Tirupathi  4 Bedroom      2600.0   5.0  120.00    4   \n",
       "2               Uttarahalli      3 BHK      1440.0   2.0   62.00    3   \n",
       "3        Lingadheeranahalli      3 BHK      1521.0   3.0   95.00    3   \n",
       "4                  Kothanur      2 BHK      1200.0   2.0   51.00    2   \n",
       "\n",
       "   price_per_sq  \n",
       "0   3699.810606  \n",
       "1   4615.384615  \n",
       "2   4305.555556  \n",
       "3   6245.890861  \n",
       "4   4250.000000  "
      ]
     },
     "execution_count": 164,
     "metadata": {},
     "output_type": "execute_result"
    }
   ],
   "source": [
    "df3.head()"
   ]
  },
  {
   "cell_type": "code",
   "execution_count": 165,
   "id": "c1b28cd0",
   "metadata": {},
   "outputs": [],
   "source": [
    "pd.options.display.max_rows = 999\n",
    "locations = df3['location'].value_counts()"
   ]
  },
  {
   "cell_type": "code",
   "execution_count": 166,
   "id": "d799d1fd",
   "metadata": {},
   "outputs": [],
   "source": [
    "filt = locations.values<10\n",
    "less_ten = locations[filt]"
   ]
  },
  {
   "cell_type": "code",
   "execution_count": 196,
   "id": "727a090c",
   "metadata": {},
   "outputs": [],
   "source": [
    "df4 = df3.copy()\n",
    "df4['location'] = df4['location'].apply(lambda x : 'other' if x in less_ten else x)"
   ]
  },
  {
   "cell_type": "code",
   "execution_count": 197,
   "id": "9c5ac4ea",
   "metadata": {},
   "outputs": [
    {
     "data": {
      "text/plain": [
       "254"
      ]
     },
     "execution_count": 197,
     "metadata": {},
     "output_type": "execute_result"
    }
   ],
   "source": [
    "df4['location'] = df4['location'].apply(lambda x : x.strip())\n",
    "df4['location'].nunique()"
   ]
  },
  {
   "cell_type": "code",
   "execution_count": 198,
   "id": "7298a6d5",
   "metadata": {},
   "outputs": [
    {
     "data": {
      "text/plain": [
       "1304"
      ]
     },
     "execution_count": 198,
     "metadata": {},
     "output_type": "execute_result"
    }
   ],
   "source": [
    "df3['location'].nunique()"
   ]
  },
  {
   "cell_type": "code",
   "execution_count": 199,
   "id": "8d594e9e",
   "metadata": {},
   "outputs": [],
   "source": [
    "#the locations that are less than 10 count are changed to other"
   ]
  },
  {
   "cell_type": "code",
   "execution_count": 201,
   "id": "45e6e94e",
   "metadata": {},
   "outputs": [
    {
     "data": {
      "text/plain": [
       "other                          2776\n",
       "Whitefield                      534\n",
       "Sarjapur  Road                  392\n",
       "Electronic City                 302\n",
       "Kanakpura Road                  266\n",
       "Thanisandra                     233\n",
       "Yelahanka                       210\n",
       "Uttarahalli                     186\n",
       "Hebbal                          176\n",
       "Marathahalli                    175\n",
       "Raja Rajeshwari Nagar           171\n",
       "Bannerghatta Road               152\n",
       "Hennur Road                     150\n",
       "7th Phase JP Nagar              149\n",
       "Haralur Road                    141\n",
       "Electronic City Phase II        131\n",
       "Rajaji Nagar                    106\n",
       "Chandapura                       98\n",
       "Bellandur                        96\n",
       "KR Puram                         88\n",
       "Hoodi                            88\n",
       "Electronics City Phase 1         87\n",
       "Yeshwanthpur                     85\n",
       "Begur Road                       84\n",
       "Sarjapur                         81\n",
       "Harlur                           79\n",
       "Kasavanhalli                     79\n",
       "Hormavu                          74\n",
       "Banashankari                     74\n",
       "Ramamurthy Nagar                 73\n",
       "Kengeri                          73\n",
       "Koramangala                      72\n",
       "Hosa Road                        72\n",
       "Varthur                          70\n",
       "Old Madras Road                  70\n",
       "Jakkur                           68\n",
       "JP Nagar                         67\n",
       "Kothanur                         66\n",
       "Kaggadasapura                    64\n",
       "Nagarbhavi                       63\n",
       "Akshaya Nagar                    62\n",
       "Thigalarapalya                   62\n",
       "TC Palaya                        60\n",
       "8th Phase JP Nagar               57\n",
       "Malleshwaram                     57\n",
       "Rachenahalli                     56\n",
       "Budigere                         54\n",
       "HSR Layout                       53\n",
       "Hennur                           52\n",
       "Jalahalli                        52\n",
       "Hulimavu                         52\n",
       "Jigani                           52\n",
       "Panathur                         51\n",
       "Bisuvanahalli                    51\n",
       "Ramagondanahalli                 50\n",
       "Hegde Nagar                      49\n",
       "Gottigere                        48\n",
       "Bhoganhalli                      48\n",
       "Mysore Road                      48\n",
       "Kundalahalli                     47\n",
       "Brookefield                      47\n",
       "Hosur Road                       46\n",
       "Balagere                         45\n",
       "Indira Nagar                     44\n",
       "CV Raman Nagar                   43\n",
       "Vittasandra                      43\n",
       "9th Phase JP Nagar               43\n",
       "Subramanyapura                   43\n",
       "Vidyaranyapura                   43\n",
       "Kanakapura                       42\n",
       "Vijayanagar                      42\n",
       "Horamavu Agara                   42\n",
       "Attibele                         42\n",
       "Kadugodi                         42\n",
       "Yelahanka New Town               41\n",
       "Talaghattapura                   40\n",
       "Kengeri Satellite Town           40\n",
       "Devanahalli                      40\n",
       "5th Phase JP Nagar               39\n",
       "Green Glen Layout                39\n",
       "Sahakara Nagar                   39\n",
       "Channasandra                     38\n",
       "Kudlu Gate                       38\n",
       "Bommasandra                      37\n",
       "Frazer Town                      36\n",
       "R.T. Nagar                       36\n",
       "Hosakerehalli                    36\n",
       "Lakshminarayana Pura             36\n",
       "Anekal                           35\n",
       "Bommanahalli                     34\n",
       "Hebbal Kempapura                 34\n",
       "Old Airport Road                 33\n",
       "Kalena Agrahara                  33\n",
       "Tumkur Road                      33\n",
       "Basavangudi                      31\n",
       "Ambedkar Nagar                   31\n",
       "Mahadevpura                      31\n",
       "Chikkalasandra                   30\n",
       "Ananth Nagar                     30\n",
       "Doddathoguru                     30\n",
       "Kumaraswami Layout               30\n",
       "Dodda Nekkundi                   29\n",
       "BTM 2nd Stage                    29\n",
       "Kudlu                            29\n",
       "Kammasandra                      29\n",
       "Horamavu Banaswadi               28\n",
       "Padmanabhanagar                  28\n",
       "Somasundara Palya                28\n",
       "Banashankari Stage III           27\n",
       "Anandapura                       27\n",
       "Kodichikkanahalli                27\n",
       "Ambalipura                       27\n",
       "Singasandra                      27\n",
       "Gubbalala                        26\n",
       "Kothannur                        26\n",
       "Bommasandra Industrial Area      26\n",
       "Margondanahalli                  26\n",
       "Choodasandra                     26\n",
       "Iblur Village                    25\n",
       "Babusapalaya                     25\n",
       "Seegehalli                       25\n",
       "1st Phase JP Nagar               25\n",
       "Magadi Road                      25\n",
       "Kogilu                           25\n",
       "2nd Stage Nagarbhavi             24\n",
       "Battarahalli                     24\n",
       "Kambipura                        24\n",
       "Abbigere                         24\n",
       "Amruthahalli                     24\n",
       "Munnekollal                      24\n",
       "Ardendale                        24\n",
       "Lingadheeranahalli               23\n",
       "EPIP Zone                        23\n",
       "6th Phase JP Nagar               23\n",
       "Kathriguppe                      22\n",
       "Gunjur                           22\n",
       "Rayasandra                       22\n",
       "Sonnenahalli                     22\n",
       "Thubarahalli                     22\n",
       "Kaval Byrasandra                 22\n",
       "Domlur                           22\n",
       "Ulsoor                           21\n",
       "Hoskote                          21\n",
       "Basaveshwara Nagar               21\n",
       "Sanjay nagar                     20\n",
       "HBR Layout                       20\n",
       "Poorna Pragna Layout             20\n",
       "Yelachenahalli                   20\n",
       "Binny Pete                       20\n",
       "Kaggalipura                      19\n",
       "Kalyan nagar                     19\n",
       "Pai Layout                       19\n",
       "HRBR Layout                      19\n",
       "OMBR Layout                      19\n",
       "Kannamangala                     18\n",
       "Garudachar Palya                 18\n",
       "Billekahalli                     18\n",
       "Sarjapura - Attibele Road        17\n",
       "Nagavara                         17\n",
       "Kammanahalli                     17\n",
       "BTM Layout                       17\n",
       "Chikka Tirupathi                 17\n",
       "Arekere                          17\n",
       "Dasarahalli                      17\n",
       "Bannerghatta                     17\n",
       "Malleshpalya                     17\n",
       "Kaikondrahalli                   17\n",
       "Judicial Layout                  16\n",
       "Banashankari Stage VI            16\n",
       "Cooke Town                       16\n",
       "Parappana Agrahara               16\n",
       "Dasanapura                       16\n",
       "Begur                            16\n",
       "Anjanapura                       16\n",
       "Mallasandra                      16\n",
       "Kasturi Nagar                    16\n",
       "Sector 2 HSR Layout              16\n",
       "Banashankari Stage II            16\n",
       "Kenchenahalli                    16\n",
       "Kereguddadahalli                 16\n",
       "Banaswadi                        16\n",
       "Chamrajpet                       15\n",
       "Varthur Road                     15\n",
       "Nagavarapalya                    15\n",
       "Benson Town                      15\n",
       "Kodihalli                        15\n",
       "Murugeshpalya                    14\n",
       "NGR Layout                       14\n",
       "NRI Layout                       14\n",
       "Devarachikkanahalli              14\n",
       "Doddakallasandra                 14\n",
       "Sultan Palaya                    14\n",
       "Jalahalli East                   14\n",
       "Giri Nagar                       14\n",
       "Sarakki Nagar                    14\n",
       "1st Block Jayanagar              14\n",
       "Sector 7 HSR Layout              13\n",
       "Bommenahalli                     13\n",
       "Neeladri Nagar                   13\n",
       "Yelenahalli                      13\n",
       "Gollarapalya Hosahalli           13\n",
       "Kadubeesanahalli                 13\n",
       "Shivaji Nagar                    13\n",
       "Dommasandra                      13\n",
       "Rajiv Nagar                      13\n",
       "Cunningham Road                  13\n",
       "BEML Layout                      13\n",
       "Chikkabanavar                    13\n",
       "Prithvi Layout                   13\n",
       "ISRO Layout                      13\n",
       "Konanakunte                      13\n",
       "Mahalakshmi Layout               13\n",
       "Vishveshwarya Layout             13\n",
       "Kodigehaali                      13\n",
       "Shampura                         13\n",
       "Karuna Nagar                     12\n",
       "Banashankari Stage V             12\n",
       "5th Block Hbr Layout             12\n",
       "Laggere                          12\n",
       "Badavala Nagar                   12\n",
       "ITPL                             12\n",
       "Cox Town                         12\n",
       "Vishwapriya Layout               12\n",
       "GM Palaya                        12\n",
       "Vasanthapura                     12\n",
       "Bharathi Nagar                   12\n",
       "Nagasandra                       12\n",
       "Doddaballapur                    12\n",
       "Mico Layout                      12\n",
       "AECS Layout                      12\n",
       "Sompura                          12\n",
       "Thyagaraja Nagar                 11\n",
       "HAL 2nd Stage                    11\n",
       "Narayanapura                     11\n",
       "Marsur                           11\n",
       "2nd Phase Judicial Layout        11\n",
       "LB Shastri Nagar                 11\n",
       "Pattandur Agrahara               11\n",
       "Kodigehalli                      11\n",
       "Banjara Layout                   11\n",
       "Nehru Nagar                      11\n",
       "Tindlu                           11\n",
       "Dairy Circle                     10\n",
       "1st Block Koramangala            10\n",
       "Sadashiva Nagar                  10\n",
       "Naganathapura                    10\n",
       "Gunjur Palya                     10\n",
       "Nagappa Reddy Layout             10\n",
       "BTM 1st Stage                    10\n",
       "Basapura                         10\n",
       "Dodsworth Layout                 10\n",
       "Kalkere                          10\n",
       "Ganga Nagar                      10\n",
       "Nagadevanahalli                  10\n",
       "Name: location, dtype: int64"
      ]
     },
     "execution_count": 201,
     "metadata": {},
     "output_type": "execute_result"
    }
   ],
   "source": [
    "df4.location.value_counts()"
   ]
  },
  {
   "cell_type": "code",
   "execution_count": 172,
   "id": "a647e870",
   "metadata": {},
   "outputs": [],
   "source": [
    "#outlier detection and removal"
   ]
  },
  {
   "cell_type": "code",
   "execution_count": 202,
   "id": "e0403735",
   "metadata": {},
   "outputs": [],
   "source": [
    "df4 = df4[~(df4['total_sqft']/df3['bhk']<300)]"
   ]
  },
  {
   "cell_type": "code",
   "execution_count": 203,
   "id": "f44d4b56",
   "metadata": {},
   "outputs": [
    {
     "data": {
      "text/plain": [
       "12502"
      ]
     },
     "execution_count": 203,
     "metadata": {},
     "output_type": "execute_result"
    }
   ],
   "source": [
    "df4.shape[0]"
   ]
  },
  {
   "cell_type": "code",
   "execution_count": 204,
   "id": "f7f878b8",
   "metadata": {},
   "outputs": [],
   "source": [
    "data = df4.groupby('location')"
   ]
  },
  {
   "cell_type": "code",
   "execution_count": 205,
   "id": "d4c88fb5",
   "metadata": {},
   "outputs": [
    {
     "data": {
      "text/html": [
       "<div>\n",
       "<style scoped>\n",
       "    .dataframe tbody tr th:only-of-type {\n",
       "        vertical-align: middle;\n",
       "    }\n",
       "\n",
       "    .dataframe tbody tr th {\n",
       "        vertical-align: top;\n",
       "    }\n",
       "\n",
       "    .dataframe thead th {\n",
       "        text-align: right;\n",
       "    }\n",
       "</style>\n",
       "<table border=\"1\" class=\"dataframe\">\n",
       "  <thead>\n",
       "    <tr style=\"text-align: right;\">\n",
       "      <th></th>\n",
       "      <th>location</th>\n",
       "      <th>size</th>\n",
       "      <th>total_sqft</th>\n",
       "      <th>bath</th>\n",
       "      <th>price</th>\n",
       "      <th>bhk</th>\n",
       "      <th>price_per_sq</th>\n",
       "    </tr>\n",
       "  </thead>\n",
       "  <tbody>\n",
       "    <tr>\n",
       "      <th>382</th>\n",
       "      <td>Anekal</td>\n",
       "      <td>2 Bedroom</td>\n",
       "      <td>1200.0</td>\n",
       "      <td>1.0</td>\n",
       "      <td>36.0</td>\n",
       "      <td>2</td>\n",
       "      <td>3000.000000</td>\n",
       "    </tr>\n",
       "    <tr>\n",
       "      <th>744</th>\n",
       "      <td>Anekal</td>\n",
       "      <td>2 BHK</td>\n",
       "      <td>656.0</td>\n",
       "      <td>2.0</td>\n",
       "      <td>22.0</td>\n",
       "      <td>2</td>\n",
       "      <td>3353.658537</td>\n",
       "    </tr>\n",
       "    <tr>\n",
       "      <th>1421</th>\n",
       "      <td>Anekal</td>\n",
       "      <td>2 BHK</td>\n",
       "      <td>620.0</td>\n",
       "      <td>2.0</td>\n",
       "      <td>22.0</td>\n",
       "      <td>2</td>\n",
       "      <td>3548.387097</td>\n",
       "    </tr>\n",
       "    <tr>\n",
       "      <th>1732</th>\n",
       "      <td>Anekal</td>\n",
       "      <td>1 BHK</td>\n",
       "      <td>600.0</td>\n",
       "      <td>1.0</td>\n",
       "      <td>16.5</td>\n",
       "      <td>1</td>\n",
       "      <td>2750.000000</td>\n",
       "    </tr>\n",
       "    <tr>\n",
       "      <th>1869</th>\n",
       "      <td>Anekal</td>\n",
       "      <td>2 BHK</td>\n",
       "      <td>925.0</td>\n",
       "      <td>2.0</td>\n",
       "      <td>40.0</td>\n",
       "      <td>2</td>\n",
       "      <td>4324.324324</td>\n",
       "    </tr>\n",
       "    <tr>\n",
       "      <th>1997</th>\n",
       "      <td>Anekal</td>\n",
       "      <td>1 BHK</td>\n",
       "      <td>530.0</td>\n",
       "      <td>1.0</td>\n",
       "      <td>18.0</td>\n",
       "      <td>1</td>\n",
       "      <td>3396.226415</td>\n",
       "    </tr>\n",
       "    <tr>\n",
       "      <th>2186</th>\n",
       "      <td>Anekal</td>\n",
       "      <td>3 Bedroom</td>\n",
       "      <td>1800.0</td>\n",
       "      <td>3.0</td>\n",
       "      <td>68.0</td>\n",
       "      <td>3</td>\n",
       "      <td>3777.777778</td>\n",
       "    </tr>\n",
       "    <tr>\n",
       "      <th>2416</th>\n",
       "      <td>Anekal</td>\n",
       "      <td>2 Bedroom</td>\n",
       "      <td>1200.0</td>\n",
       "      <td>1.0</td>\n",
       "      <td>36.0</td>\n",
       "      <td>2</td>\n",
       "      <td>3000.000000</td>\n",
       "    </tr>\n",
       "    <tr>\n",
       "      <th>2642</th>\n",
       "      <td>Anekal</td>\n",
       "      <td>2 BHK</td>\n",
       "      <td>1035.0</td>\n",
       "      <td>2.0</td>\n",
       "      <td>38.3</td>\n",
       "      <td>2</td>\n",
       "      <td>3700.483092</td>\n",
       "    </tr>\n",
       "    <tr>\n",
       "      <th>3679</th>\n",
       "      <td>Anekal</td>\n",
       "      <td>2 BHK</td>\n",
       "      <td>888.0</td>\n",
       "      <td>2.0</td>\n",
       "      <td>34.0</td>\n",
       "      <td>2</td>\n",
       "      <td>3828.828829</td>\n",
       "    </tr>\n",
       "    <tr>\n",
       "      <th>4768</th>\n",
       "      <td>Anekal</td>\n",
       "      <td>2 Bedroom</td>\n",
       "      <td>1200.0</td>\n",
       "      <td>2.0</td>\n",
       "      <td>36.1</td>\n",
       "      <td>2</td>\n",
       "      <td>3008.333333</td>\n",
       "    </tr>\n",
       "    <tr>\n",
       "      <th>5016</th>\n",
       "      <td>Anekal</td>\n",
       "      <td>2 BHK</td>\n",
       "      <td>700.0</td>\n",
       "      <td>1.0</td>\n",
       "      <td>19.4</td>\n",
       "      <td>2</td>\n",
       "      <td>2771.428571</td>\n",
       "    </tr>\n",
       "    <tr>\n",
       "      <th>5632</th>\n",
       "      <td>Anekal</td>\n",
       "      <td>2 Bedroom</td>\n",
       "      <td>1200.0</td>\n",
       "      <td>1.0</td>\n",
       "      <td>36.0</td>\n",
       "      <td>2</td>\n",
       "      <td>3000.000000</td>\n",
       "    </tr>\n",
       "    <tr>\n",
       "      <th>5871</th>\n",
       "      <td>Anekal</td>\n",
       "      <td>3 BHK</td>\n",
       "      <td>997.0</td>\n",
       "      <td>3.0</td>\n",
       "      <td>55.0</td>\n",
       "      <td>3</td>\n",
       "      <td>5516.549649</td>\n",
       "    </tr>\n",
       "    <tr>\n",
       "      <th>6447</th>\n",
       "      <td>Anekal</td>\n",
       "      <td>4 Bedroom</td>\n",
       "      <td>1200.0</td>\n",
       "      <td>2.0</td>\n",
       "      <td>36.0</td>\n",
       "      <td>4</td>\n",
       "      <td>3000.000000</td>\n",
       "    </tr>\n",
       "    <tr>\n",
       "      <th>6893</th>\n",
       "      <td>Anekal</td>\n",
       "      <td>3 Bedroom</td>\n",
       "      <td>1500.0</td>\n",
       "      <td>4.0</td>\n",
       "      <td>99.0</td>\n",
       "      <td>3</td>\n",
       "      <td>6600.000000</td>\n",
       "    </tr>\n",
       "    <tr>\n",
       "      <th>6950</th>\n",
       "      <td>Anekal</td>\n",
       "      <td>2 BHK</td>\n",
       "      <td>766.0</td>\n",
       "      <td>2.0</td>\n",
       "      <td>28.0</td>\n",
       "      <td>2</td>\n",
       "      <td>3655.352480</td>\n",
       "    </tr>\n",
       "    <tr>\n",
       "      <th>7755</th>\n",
       "      <td>Anekal</td>\n",
       "      <td>3 BHK</td>\n",
       "      <td>967.0</td>\n",
       "      <td>2.0</td>\n",
       "      <td>45.0</td>\n",
       "      <td>3</td>\n",
       "      <td>4653.567735</td>\n",
       "    </tr>\n",
       "    <tr>\n",
       "      <th>8166</th>\n",
       "      <td>Anekal</td>\n",
       "      <td>2 BHK</td>\n",
       "      <td>620.0</td>\n",
       "      <td>1.0</td>\n",
       "      <td>23.5</td>\n",
       "      <td>2</td>\n",
       "      <td>3790.322581</td>\n",
       "    </tr>\n",
       "    <tr>\n",
       "      <th>8621</th>\n",
       "      <td>Anekal</td>\n",
       "      <td>3 BHK</td>\n",
       "      <td>1150.0</td>\n",
       "      <td>3.0</td>\n",
       "      <td>45.0</td>\n",
       "      <td>3</td>\n",
       "      <td>3913.043478</td>\n",
       "    </tr>\n",
       "    <tr>\n",
       "      <th>9048</th>\n",
       "      <td>Anekal</td>\n",
       "      <td>2 Bedroom</td>\n",
       "      <td>1200.0</td>\n",
       "      <td>1.0</td>\n",
       "      <td>36.0</td>\n",
       "      <td>2</td>\n",
       "      <td>3000.000000</td>\n",
       "    </tr>\n",
       "    <tr>\n",
       "      <th>9061</th>\n",
       "      <td>Anekal</td>\n",
       "      <td>2 Bedroom</td>\n",
       "      <td>1200.0</td>\n",
       "      <td>1.0</td>\n",
       "      <td>36.0</td>\n",
       "      <td>2</td>\n",
       "      <td>3000.000000</td>\n",
       "    </tr>\n",
       "    <tr>\n",
       "      <th>9102</th>\n",
       "      <td>Anekal</td>\n",
       "      <td>1 BHK</td>\n",
       "      <td>400.0</td>\n",
       "      <td>1.0</td>\n",
       "      <td>11.5</td>\n",
       "      <td>1</td>\n",
       "      <td>2875.000000</td>\n",
       "    </tr>\n",
       "    <tr>\n",
       "      <th>9312</th>\n",
       "      <td>Anekal</td>\n",
       "      <td>1 BHK</td>\n",
       "      <td>456.0</td>\n",
       "      <td>1.0</td>\n",
       "      <td>15.0</td>\n",
       "      <td>1</td>\n",
       "      <td>3289.473684</td>\n",
       "    </tr>\n",
       "    <tr>\n",
       "      <th>9388</th>\n",
       "      <td>Anekal</td>\n",
       "      <td>2 Bedroom</td>\n",
       "      <td>1200.0</td>\n",
       "      <td>1.0</td>\n",
       "      <td>36.0</td>\n",
       "      <td>2</td>\n",
       "      <td>3000.000000</td>\n",
       "    </tr>\n",
       "    <tr>\n",
       "      <th>9917</th>\n",
       "      <td>Anekal</td>\n",
       "      <td>2 Bedroom</td>\n",
       "      <td>1200.0</td>\n",
       "      <td>1.0</td>\n",
       "      <td>36.0</td>\n",
       "      <td>2</td>\n",
       "      <td>3000.000000</td>\n",
       "    </tr>\n",
       "    <tr>\n",
       "      <th>10078</th>\n",
       "      <td>Anekal</td>\n",
       "      <td>3 Bedroom</td>\n",
       "      <td>2400.0</td>\n",
       "      <td>4.0</td>\n",
       "      <td>95.0</td>\n",
       "      <td>3</td>\n",
       "      <td>3958.333333</td>\n",
       "    </tr>\n",
       "    <tr>\n",
       "      <th>10262</th>\n",
       "      <td>Anekal</td>\n",
       "      <td>2 Bedroom</td>\n",
       "      <td>1200.0</td>\n",
       "      <td>2.0</td>\n",
       "      <td>36.1</td>\n",
       "      <td>2</td>\n",
       "      <td>3008.333333</td>\n",
       "    </tr>\n",
       "    <tr>\n",
       "      <th>10295</th>\n",
       "      <td>Anekal</td>\n",
       "      <td>3 Bedroom</td>\n",
       "      <td>1733.5</td>\n",
       "      <td>3.0</td>\n",
       "      <td>120.0</td>\n",
       "      <td>3</td>\n",
       "      <td>6922.411307</td>\n",
       "    </tr>\n",
       "    <tr>\n",
       "      <th>10500</th>\n",
       "      <td>Anekal</td>\n",
       "      <td>2 Bedroom</td>\n",
       "      <td>1200.0</td>\n",
       "      <td>2.0</td>\n",
       "      <td>36.1</td>\n",
       "      <td>2</td>\n",
       "      <td>3008.333333</td>\n",
       "    </tr>\n",
       "    <tr>\n",
       "      <th>10950</th>\n",
       "      <td>Anekal</td>\n",
       "      <td>2 BHK</td>\n",
       "      <td>680.0</td>\n",
       "      <td>1.0</td>\n",
       "      <td>21.0</td>\n",
       "      <td>2</td>\n",
       "      <td>3088.235294</td>\n",
       "    </tr>\n",
       "    <tr>\n",
       "      <th>11932</th>\n",
       "      <td>Anekal</td>\n",
       "      <td>1 BHK</td>\n",
       "      <td>420.0</td>\n",
       "      <td>1.0</td>\n",
       "      <td>12.5</td>\n",
       "      <td>1</td>\n",
       "      <td>2976.190476</td>\n",
       "    </tr>\n",
       "    <tr>\n",
       "      <th>11934</th>\n",
       "      <td>Anekal</td>\n",
       "      <td>2 BHK</td>\n",
       "      <td>614.0</td>\n",
       "      <td>1.0</td>\n",
       "      <td>28.0</td>\n",
       "      <td>2</td>\n",
       "      <td>4560.260586</td>\n",
       "    </tr>\n",
       "    <tr>\n",
       "      <th>12737</th>\n",
       "      <td>Anekal</td>\n",
       "      <td>2 BHK</td>\n",
       "      <td>1140.0</td>\n",
       "      <td>2.0</td>\n",
       "      <td>52.0</td>\n",
       "      <td>2</td>\n",
       "      <td>4561.403509</td>\n",
       "    </tr>\n",
       "    <tr>\n",
       "      <th>12998</th>\n",
       "      <td>Anekal</td>\n",
       "      <td>2 BHK</td>\n",
       "      <td>625.0</td>\n",
       "      <td>1.0</td>\n",
       "      <td>25.0</td>\n",
       "      <td>2</td>\n",
       "      <td>4000.000000</td>\n",
       "    </tr>\n",
       "  </tbody>\n",
       "</table>\n",
       "</div>"
      ],
      "text/plain": [
       "      location       size  total_sqft  bath  price  bhk  price_per_sq\n",
       "382     Anekal  2 Bedroom      1200.0   1.0   36.0    2   3000.000000\n",
       "744     Anekal      2 BHK       656.0   2.0   22.0    2   3353.658537\n",
       "1421    Anekal      2 BHK       620.0   2.0   22.0    2   3548.387097\n",
       "1732    Anekal      1 BHK       600.0   1.0   16.5    1   2750.000000\n",
       "1869    Anekal      2 BHK       925.0   2.0   40.0    2   4324.324324\n",
       "1997    Anekal      1 BHK       530.0   1.0   18.0    1   3396.226415\n",
       "2186    Anekal  3 Bedroom      1800.0   3.0   68.0    3   3777.777778\n",
       "2416    Anekal  2 Bedroom      1200.0   1.0   36.0    2   3000.000000\n",
       "2642    Anekal      2 BHK      1035.0   2.0   38.3    2   3700.483092\n",
       "3679    Anekal      2 BHK       888.0   2.0   34.0    2   3828.828829\n",
       "4768    Anekal  2 Bedroom      1200.0   2.0   36.1    2   3008.333333\n",
       "5016    Anekal      2 BHK       700.0   1.0   19.4    2   2771.428571\n",
       "5632    Anekal  2 Bedroom      1200.0   1.0   36.0    2   3000.000000\n",
       "5871    Anekal      3 BHK       997.0   3.0   55.0    3   5516.549649\n",
       "6447    Anekal  4 Bedroom      1200.0   2.0   36.0    4   3000.000000\n",
       "6893    Anekal  3 Bedroom      1500.0   4.0   99.0    3   6600.000000\n",
       "6950    Anekal      2 BHK       766.0   2.0   28.0    2   3655.352480\n",
       "7755    Anekal      3 BHK       967.0   2.0   45.0    3   4653.567735\n",
       "8166    Anekal      2 BHK       620.0   1.0   23.5    2   3790.322581\n",
       "8621    Anekal      3 BHK      1150.0   3.0   45.0    3   3913.043478\n",
       "9048    Anekal  2 Bedroom      1200.0   1.0   36.0    2   3000.000000\n",
       "9061    Anekal  2 Bedroom      1200.0   1.0   36.0    2   3000.000000\n",
       "9102    Anekal      1 BHK       400.0   1.0   11.5    1   2875.000000\n",
       "9312    Anekal      1 BHK       456.0   1.0   15.0    1   3289.473684\n",
       "9388    Anekal  2 Bedroom      1200.0   1.0   36.0    2   3000.000000\n",
       "9917    Anekal  2 Bedroom      1200.0   1.0   36.0    2   3000.000000\n",
       "10078   Anekal  3 Bedroom      2400.0   4.0   95.0    3   3958.333333\n",
       "10262   Anekal  2 Bedroom      1200.0   2.0   36.1    2   3008.333333\n",
       "10295   Anekal  3 Bedroom      1733.5   3.0  120.0    3   6922.411307\n",
       "10500   Anekal  2 Bedroom      1200.0   2.0   36.1    2   3008.333333\n",
       "10950   Anekal      2 BHK       680.0   1.0   21.0    2   3088.235294\n",
       "11932   Anekal      1 BHK       420.0   1.0   12.5    1   2976.190476\n",
       "11934   Anekal      2 BHK       614.0   1.0   28.0    2   4560.260586\n",
       "12737   Anekal      2 BHK      1140.0   2.0   52.0    2   4561.403509\n",
       "12998   Anekal      2 BHK       625.0   1.0   25.0    2   4000.000000"
      ]
     },
     "execution_count": 205,
     "metadata": {},
     "output_type": "execute_result"
    }
   ],
   "source": [
    "data.get_group('Anekal')"
   ]
  },
  {
   "cell_type": "code",
   "execution_count": 206,
   "id": "447d23db",
   "metadata": {},
   "outputs": [],
   "source": [
    "def outlier_removal(dframe):\n",
    "    out_df = pd.DataFrame()\n",
    "    for key,subdf in dframe.groupby('location'):\n",
    "        mean = subdf['price_per_sq'].mean()\n",
    "        std = subdf['price_per_sq'].std()\n",
    "        outdf = subdf[(subdf['price_per_sq']>(mean-std)) & (subdf['price_per_sq']<=(mean+std))]\n",
    "        out_df = pd.concat([outdf,out_df],ignore_index = True)\n",
    "    return out_df"
   ]
  },
  {
   "cell_type": "code",
   "execution_count": 207,
   "id": "0bc2e45c",
   "metadata": {},
   "outputs": [
    {
     "data": {
      "text/plain": [
       "(10280, 7)"
      ]
     },
     "execution_count": 207,
     "metadata": {},
     "output_type": "execute_result"
    }
   ],
   "source": [
    "df5 = outlier_removal(df4)\n",
    "df5.shape"
   ]
  },
  {
   "cell_type": "code",
   "execution_count": 209,
   "id": "0cdba7c1",
   "metadata": {},
   "outputs": [
    {
     "data": {
      "text/plain": [
       "254"
      ]
     },
     "execution_count": 209,
     "metadata": {},
     "output_type": "execute_result"
    }
   ],
   "source": [
    "df4['location'].nunique()"
   ]
  },
  {
   "cell_type": "code",
   "execution_count": 210,
   "id": "87363f08",
   "metadata": {},
   "outputs": [],
   "source": [
    "def plott(df,location):\n",
    "    df1 = df[(df['location']==location) & (df['bhk']==2)]\n",
    "    df2 = df[(df['location']==location)& (df['bhk']==3)]\n",
    "    pyp.scatter(df1['total_sqft'],df1['price'],marker = '+')\n",
    "    pyp.scatter(df2['total_sqft'],df2['price'])\n",
    "    pyp.show()"
   ]
  },
  {
   "cell_type": "code",
   "execution_count": 211,
   "id": "e2439b1b",
   "metadata": {},
   "outputs": [
    {
     "data": {
      "image/png": "[encoded data removed]",
      "text/plain": [
       "<Figure size 640x480 with 1 Axes>"
      ]
     },
     "metadata": {},
     "output_type": "display_data"
    }
   ],
   "source": [
    "plott(df5,'Hebbal')"
   ]
  },
  {
   "cell_type": "code",
   "execution_count": 212,
   "id": "0a8a60fa",
   "metadata": {},
   "outputs": [
    {
     "data": {
      "text/plain": [
       "0                      other\n",
       "1                      other\n",
       "2                      other\n",
       "3                      other\n",
       "4                      other\n",
       "                ...         \n",
       "10275    1st Block Jayanagar\n",
       "10276    1st Block Jayanagar\n",
       "10277    1st Block Jayanagar\n",
       "10278    1st Block Jayanagar\n",
       "10279    1st Block Jayanagar\n",
       "Name: location, Length: 10280, dtype: object"
      ]
     },
     "execution_count": 212,
     "metadata": {},
     "output_type": "execute_result"
    }
   ],
   "source": [
    "df5.location"
   ]
  },
  {
   "cell_type": "code",
   "execution_count": 213,
   "id": "54021c2d",
   "metadata": {},
   "outputs": [
    {
     "data": {
      "text/plain": [
       "Index(['location', 'size', 'total_sqft', 'bath', 'price', 'bhk',\n",
       "       'price_per_sq'],\n",
       "      dtype='object')"
      ]
     },
     "execution_count": 213,
     "metadata": {},
     "output_type": "execute_result"
    }
   ],
   "source": [
    "df4.columns"
   ]
  },
  {
   "cell_type": "markdown",
   "id": "1f41be6e",
   "metadata": {},
   "source": [
    "### we are going to remove the rows for the same area ,where 3 bed rooms costs is less than 2 bed rooms cost.simply removing the 3 bed room apartments for the same area where price is less than the mean of the 2 bed room apartment"
   ]
  },
  {
   "cell_type": "code",
   "execution_count": 214,
   "id": "379b6621",
   "metadata": {},
   "outputs": [],
   "source": [
    "data = df4.groupby('location')"
   ]
  },
  {
   "cell_type": "code",
   "execution_count": 215,
   "id": "2daf9890",
   "metadata": {},
   "outputs": [],
   "source": [
    "def remove_outliers(df):\n",
    "    remove_index = np.array([])\n",
    "    for ind,ind_df in df.groupby('location'):\n",
    "        dic = {}\n",
    "        for bhk,bhk_df in ind_df.groupby('bhk'):\n",
    "            dic[bhk]={\n",
    "                'mean':np.mean(bhk_df.price_per_sq),\n",
    "                'std':np.std(bhk_df.price_per_sq),\n",
    "                'count':bhk_df.shape[0]\n",
    "            }\n",
    "        for bhk,bhk_df in ind_df.groupby('bhk'):\n",
    "            stats = dic.get(bhk-1)\n",
    "            if stats and stats['count']>5:\n",
    "                remove_index = np.append(remove_index,bhk_df[bhk_df['price_per_sq']<stats['mean']].index.values)\n",
    "    return df.drop(remove_index,axis='rows')"
   ]
  },
  {
   "cell_type": "code",
   "execution_count": 216,
   "id": "28e8b294",
   "metadata": {},
   "outputs": [],
   "source": [
    "df6 = remove_outliers(df5)"
   ]
  },
  {
   "cell_type": "code",
   "execution_count": 217,
   "id": "25799f98",
   "metadata": {},
   "outputs": [
    {
     "data": {
      "text/plain": [
       "(7430, 7)"
      ]
     },
     "execution_count": 217,
     "metadata": {},
     "output_type": "execute_result"
    }
   ],
   "source": [
    "df6.shape"
   ]
  },
  {
   "cell_type": "code",
   "execution_count": 218,
   "id": "eb3978ce",
   "metadata": {},
   "outputs": [
    {
     "data": {
      "image/png": "[encoded data removed]",
      "text/plain": [
       "<Figure size 640x480 with 1 Axes>"
      ]
     },
     "metadata": {},
     "output_type": "display_data"
    }
   ],
   "source": [
    "plott(df6,'Hebbal')"
   ]
  },
  {
   "cell_type": "markdown",
   "id": "82ade03b",
   "metadata": {},
   "source": [
    "### we can observe that the outliers are removed"
   ]
  },
  {
   "cell_type": "code",
   "execution_count": 219,
   "id": "50c6a434",
   "metadata": {},
   "outputs": [
    {
     "data": {
      "image/png": "[encoded data removed]",
      "text/plain": [
       "<Figure size 900x900 with 1 Axes>"
      ]
     },
     "metadata": {},
     "output_type": "display_data"
    }
   ],
   "source": [
    "f,ax = pyp.subplots(figsize= (9,9))\n",
    "ax.hist(df6.price_per_sq,rwidth=0.8)\n",
    "ax.set_xlabel('price_per_square_feet')\n",
    "ax.set_ylabel('count')\n",
    "pyp.show()"
   ]
  },
  {
   "cell_type": "code",
   "execution_count": 220,
   "id": "e8ff7350",
   "metadata": {},
   "outputs": [
    {
     "data": {
      "text/plain": [
       "array([ 4.,  1.,  2.,  3.,  8.,  9.,  5.,  6., 12., 16.,  7., 13., 14.])"
      ]
     },
     "execution_count": 220,
     "metadata": {},
     "output_type": "execute_result"
    }
   ],
   "source": [
    "df6.bath.unique()"
   ]
  },
  {
   "cell_type": "code",
   "execution_count": 221,
   "id": "ca831c84",
   "metadata": {},
   "outputs": [
    {
     "data": {
      "text/html": [
       "<div>\n",
       "<style scoped>\n",
       "    .dataframe tbody tr th:only-of-type {\n",
       "        vertical-align: middle;\n",
       "    }\n",
       "\n",
       "    .dataframe tbody tr th {\n",
       "        vertical-align: top;\n",
       "    }\n",
       "\n",
       "    .dataframe thead th {\n",
       "        text-align: right;\n",
       "    }\n",
       "</style>\n",
       "<table border=\"1\" class=\"dataframe\">\n",
       "  <thead>\n",
       "    <tr style=\"text-align: right;\">\n",
       "      <th></th>\n",
       "      <th>location</th>\n",
       "      <th>size</th>\n",
       "      <th>total_sqft</th>\n",
       "      <th>bath</th>\n",
       "      <th>price</th>\n",
       "      <th>bhk</th>\n",
       "      <th>price_per_sq</th>\n",
       "    </tr>\n",
       "  </thead>\n",
       "  <tbody>\n",
       "    <tr>\n",
       "      <th>533</th>\n",
       "      <td>other</td>\n",
       "      <td>10 BHK</td>\n",
       "      <td>12000.0</td>\n",
       "      <td>12.0</td>\n",
       "      <td>525.0</td>\n",
       "      <td>10</td>\n",
       "      <td>4375.000000</td>\n",
       "    </tr>\n",
       "    <tr>\n",
       "      <th>619</th>\n",
       "      <td>other</td>\n",
       "      <td>16 BHK</td>\n",
       "      <td>10000.0</td>\n",
       "      <td>16.0</td>\n",
       "      <td>550.0</td>\n",
       "      <td>16</td>\n",
       "      <td>5500.000000</td>\n",
       "    </tr>\n",
       "    <tr>\n",
       "      <th>1323</th>\n",
       "      <td>other</td>\n",
       "      <td>11 BHK</td>\n",
       "      <td>6000.0</td>\n",
       "      <td>12.0</td>\n",
       "      <td>150.0</td>\n",
       "      <td>11</td>\n",
       "      <td>2500.000000</td>\n",
       "    </tr>\n",
       "    <tr>\n",
       "      <th>1639</th>\n",
       "      <td>other</td>\n",
       "      <td>13 BHK</td>\n",
       "      <td>5425.0</td>\n",
       "      <td>13.0</td>\n",
       "      <td>275.0</td>\n",
       "      <td>13</td>\n",
       "      <td>5069.124424</td>\n",
       "    </tr>\n",
       "    <tr>\n",
       "      <th>4907</th>\n",
       "      <td>Neeladri Nagar</td>\n",
       "      <td>10 BHK</td>\n",
       "      <td>4000.0</td>\n",
       "      <td>12.0</td>\n",
       "      <td>160.0</td>\n",
       "      <td>10</td>\n",
       "      <td>4000.000000</td>\n",
       "    </tr>\n",
       "    <tr>\n",
       "      <th>9690</th>\n",
       "      <td>BTM 1st Stage</td>\n",
       "      <td>9 Bedroom</td>\n",
       "      <td>3300.0</td>\n",
       "      <td>14.0</td>\n",
       "      <td>500.0</td>\n",
       "      <td>9</td>\n",
       "      <td>15151.515152</td>\n",
       "    </tr>\n",
       "  </tbody>\n",
       "</table>\n",
       "</div>"
      ],
      "text/plain": [
       "            location       size  total_sqft  bath  price  bhk  price_per_sq\n",
       "533            other     10 BHK     12000.0  12.0  525.0   10   4375.000000\n",
       "619            other     16 BHK     10000.0  16.0  550.0   16   5500.000000\n",
       "1323           other     11 BHK      6000.0  12.0  150.0   11   2500.000000\n",
       "1639           other     13 BHK      5425.0  13.0  275.0   13   5069.124424\n",
       "4907  Neeladri Nagar     10 BHK      4000.0  12.0  160.0   10   4000.000000\n",
       "9690   BTM 1st Stage  9 Bedroom      3300.0  14.0  500.0    9  15151.515152"
      ]
     },
     "execution_count": 221,
     "metadata": {},
     "output_type": "execute_result"
    }
   ],
   "source": [
    "df6[df6.bath>10]"
   ]
  },
  {
   "cell_type": "code",
   "execution_count": 225,
   "id": "6e0757e7",
   "metadata": {},
   "outputs": [
    {
     "data": {
      "image/png": "[encoded data removed]",
      "text/plain": [
       "<Figure size 900x900 with 1 Axes>"
      ]
     },
     "metadata": {},
     "output_type": "display_data"
    }
   ],
   "source": [
    "f,ax = pyp.subplots(figsize=(9,9))\n",
    "ax.hist(df6['bath'],rwidth=0.5)\n",
    "pyp.show()"
   ]
  },
  {
   "cell_type": "markdown",
   "id": "7d1b3a59",
   "metadata": {},
   "source": [
    "### most apratments have 2 bathrooms"
   ]
  },
  {
   "cell_type": "code",
   "execution_count": 227,
   "id": "912fdf38",
   "metadata": {},
   "outputs": [],
   "source": [
    "df7 = df6[df6['bath']<=df6['bhk']+2]"
   ]
  },
  {
   "cell_type": "code",
   "execution_count": 228,
   "id": "0ab3a419",
   "metadata": {},
   "outputs": [
    {
     "data": {
      "text/plain": [
       "(7425, 7)"
      ]
     },
     "execution_count": 228,
     "metadata": {},
     "output_type": "execute_result"
    }
   ],
   "source": [
    "df7.shape"
   ]
  },
  {
   "cell_type": "markdown",
   "id": "424c2752",
   "metadata": {},
   "source": [
    "### now the dataset is preprcessed and cleaned."
   ]
  },
  {
   "cell_type": "markdown",
   "id": "6dc4dd9c",
   "metadata": {},
   "source": [
    "## now the task is to remve the unwanted features and building a model"
   ]
  },
  {
   "cell_type": "code",
   "execution_count": 229,
   "id": "6958ba4a",
   "metadata": {},
   "outputs": [
    {
     "data": {
      "text/html": [
       "<div>\n",
       "<style scoped>\n",
       "    .dataframe tbody tr th:only-of-type {\n",
       "        vertical-align: middle;\n",
       "    }\n",
       "\n",
       "    .dataframe tbody tr th {\n",
       "        vertical-align: top;\n",
       "    }\n",
       "\n",
       "    .dataframe thead th {\n",
       "        text-align: right;\n",
       "    }\n",
       "</style>\n",
       "<table border=\"1\" class=\"dataframe\">\n",
       "  <thead>\n",
       "    <tr style=\"text-align: right;\">\n",
       "      <th></th>\n",
       "      <th>location</th>\n",
       "      <th>size</th>\n",
       "      <th>total_sqft</th>\n",
       "      <th>bath</th>\n",
       "      <th>price</th>\n",
       "      <th>bhk</th>\n",
       "      <th>price_per_sq</th>\n",
       "    </tr>\n",
       "  </thead>\n",
       "  <tbody>\n",
       "    <tr>\n",
       "      <th>0</th>\n",
       "      <td>other</td>\n",
       "      <td>3 BHK</td>\n",
       "      <td>2770.0</td>\n",
       "      <td>4.0</td>\n",
       "      <td>290.00</td>\n",
       "      <td>3</td>\n",
       "      <td>10469.314079</td>\n",
       "    </tr>\n",
       "    <tr>\n",
       "      <th>2</th>\n",
       "      <td>other</td>\n",
       "      <td>1 RK</td>\n",
       "      <td>510.0</td>\n",
       "      <td>1.0</td>\n",
       "      <td>25.25</td>\n",
       "      <td>1</td>\n",
       "      <td>4950.980392</td>\n",
       "    </tr>\n",
       "    <tr>\n",
       "      <th>6</th>\n",
       "      <td>other</td>\n",
       "      <td>2 BHK</td>\n",
       "      <td>1500.0</td>\n",
       "      <td>2.0</td>\n",
       "      <td>185.00</td>\n",
       "      <td>2</td>\n",
       "      <td>12333.333333</td>\n",
       "    </tr>\n",
       "    <tr>\n",
       "      <th>7</th>\n",
       "      <td>other</td>\n",
       "      <td>2 BHK</td>\n",
       "      <td>840.0</td>\n",
       "      <td>2.0</td>\n",
       "      <td>45.00</td>\n",
       "      <td>2</td>\n",
       "      <td>5357.142857</td>\n",
       "    </tr>\n",
       "    <tr>\n",
       "      <th>8</th>\n",
       "      <td>other</td>\n",
       "      <td>3 Bedroom</td>\n",
       "      <td>4395.0</td>\n",
       "      <td>3.0</td>\n",
       "      <td>240.00</td>\n",
       "      <td>3</td>\n",
       "      <td>5460.750853</td>\n",
       "    </tr>\n",
       "  </tbody>\n",
       "</table>\n",
       "</div>"
      ],
      "text/plain": [
       "  location       size  total_sqft  bath   price  bhk  price_per_sq\n",
       "0    other      3 BHK      2770.0   4.0  290.00    3  10469.314079\n",
       "2    other       1 RK       510.0   1.0   25.25    1   4950.980392\n",
       "6    other      2 BHK      1500.0   2.0  185.00    2  12333.333333\n",
       "7    other      2 BHK       840.0   2.0   45.00    2   5357.142857\n",
       "8    other  3 Bedroom      4395.0   3.0  240.00    3   5460.750853"
      ]
     },
     "execution_count": 229,
     "metadata": {},
     "output_type": "execute_result"
    }
   ],
   "source": [
    "df7.head()"
   ]
  },
  {
   "cell_type": "code",
   "execution_count": 252,
   "id": "73cf06a9",
   "metadata": {},
   "outputs": [],
   "source": [
    "df8 = df7.drop(['size','price_per_sq'],axis='columns')"
   ]
  },
  {
   "cell_type": "code",
   "execution_count": 253,
   "id": "bb2c3487",
   "metadata": {},
   "outputs": [
    {
     "data": {
      "text/html": [
       "<div>\n",
       "<style scoped>\n",
       "    .dataframe tbody tr th:only-of-type {\n",
       "        vertical-align: middle;\n",
       "    }\n",
       "\n",
       "    .dataframe tbody tr th {\n",
       "        vertical-align: top;\n",
       "    }\n",
       "\n",
       "    .dataframe thead th {\n",
       "        text-align: right;\n",
       "    }\n",
       "</style>\n",
       "<table border=\"1\" class=\"dataframe\">\n",
       "  <thead>\n",
       "    <tr style=\"text-align: right;\">\n",
       "      <th></th>\n",
       "      <th>location</th>\n",
       "      <th>total_sqft</th>\n",
       "      <th>bath</th>\n",
       "      <th>price</th>\n",
       "      <th>bhk</th>\n",
       "    </tr>\n",
       "  </thead>\n",
       "  <tbody>\n",
       "    <tr>\n",
       "      <th>0</th>\n",
       "      <td>other</td>\n",
       "      <td>2770.0</td>\n",
       "      <td>4.0</td>\n",
       "      <td>290.00</td>\n",
       "      <td>3</td>\n",
       "    </tr>\n",
       "    <tr>\n",
       "      <th>2</th>\n",
       "      <td>other</td>\n",
       "      <td>510.0</td>\n",
       "      <td>1.0</td>\n",
       "      <td>25.25</td>\n",
       "      <td>1</td>\n",
       "    </tr>\n",
       "    <tr>\n",
       "      <th>6</th>\n",
       "      <td>other</td>\n",
       "      <td>1500.0</td>\n",
       "      <td>2.0</td>\n",
       "      <td>185.00</td>\n",
       "      <td>2</td>\n",
       "    </tr>\n",
       "    <tr>\n",
       "      <th>7</th>\n",
       "      <td>other</td>\n",
       "      <td>840.0</td>\n",
       "      <td>2.0</td>\n",
       "      <td>45.00</td>\n",
       "      <td>2</td>\n",
       "    </tr>\n",
       "    <tr>\n",
       "      <th>8</th>\n",
       "      <td>other</td>\n",
       "      <td>4395.0</td>\n",
       "      <td>3.0</td>\n",
       "      <td>240.00</td>\n",
       "      <td>3</td>\n",
       "    </tr>\n",
       "  </tbody>\n",
       "</table>\n",
       "</div>"
      ],
      "text/plain": [
       "  location  total_sqft  bath   price  bhk\n",
       "0    other      2770.0   4.0  290.00    3\n",
       "2    other       510.0   1.0   25.25    1\n",
       "6    other      1500.0   2.0  185.00    2\n",
       "7    other       840.0   2.0   45.00    2\n",
       "8    other      4395.0   3.0  240.00    3"
      ]
     },
     "execution_count": 253,
     "metadata": {},
     "output_type": "execute_result"
    }
   ],
   "source": [
    "df8.head()"
   ]
  },
  {
   "cell_type": "markdown",
   "id": "c03428f2",
   "metadata": {},
   "source": [
    "### now changing categorical values of the location (applying one hot encoding)"
   ]
  },
  {
   "cell_type": "code",
   "execution_count": 254,
   "id": "9ad9bc9c",
   "metadata": {},
   "outputs": [],
   "source": [
    "dummies = pd.get_dummies(df7['location'])\n",
    "#since i dont want other locations to be defined while deploying\n",
    "df8 = pd.concat([df8,dummies],axis='columns')"
   ]
  },
  {
   "cell_type": "code",
   "execution_count": 255,
   "id": "41826fc6",
   "metadata": {},
   "outputs": [],
   "source": [
    "df8.drop('other',axis='columns',inplace=True)"
   ]
  },
  {
   "cell_type": "code",
   "execution_count": 256,
   "id": "0239566a",
   "metadata": {},
   "outputs": [
    {
     "data": {
      "text/html": [
       "<div>\n",
       "<style scoped>\n",
       "    .dataframe tbody tr th:only-of-type {\n",
       "        vertical-align: middle;\n",
       "    }\n",
       "\n",
       "    .dataframe tbody tr th {\n",
       "        vertical-align: top;\n",
       "    }\n",
       "\n",
       "    .dataframe thead th {\n",
       "        text-align: right;\n",
       "    }\n",
       "</style>\n",
       "<table border=\"1\" class=\"dataframe\">\n",
       "  <thead>\n",
       "    <tr style=\"text-align: right;\">\n",
       "      <th></th>\n",
       "      <th>location</th>\n",
       "      <th>total_sqft</th>\n",
       "      <th>bath</th>\n",
       "      <th>price</th>\n",
       "      <th>bhk</th>\n",
       "      <th>1st Block Jayanagar</th>\n",
       "      <th>1st Block Koramangala</th>\n",
       "      <th>1st Phase JP Nagar</th>\n",
       "      <th>2nd Phase Judicial Layout</th>\n",
       "      <th>2nd Stage Nagarbhavi</th>\n",
       "      <th>...</th>\n",
       "      <th>Vijayanagar</th>\n",
       "      <th>Vishveshwarya Layout</th>\n",
       "      <th>Vishwapriya Layout</th>\n",
       "      <th>Vittasandra</th>\n",
       "      <th>Whitefield</th>\n",
       "      <th>Yelachenahalli</th>\n",
       "      <th>Yelahanka</th>\n",
       "      <th>Yelahanka New Town</th>\n",
       "      <th>Yelenahalli</th>\n",
       "      <th>Yeshwanthpur</th>\n",
       "    </tr>\n",
       "  </thead>\n",
       "  <tbody>\n",
       "    <tr>\n",
       "      <th>0</th>\n",
       "      <td>other</td>\n",
       "      <td>2770.0</td>\n",
       "      <td>4.0</td>\n",
       "      <td>290.00</td>\n",
       "      <td>3</td>\n",
       "      <td>0</td>\n",
       "      <td>0</td>\n",
       "      <td>0</td>\n",
       "      <td>0</td>\n",
       "      <td>0</td>\n",
       "      <td>...</td>\n",
       "      <td>0</td>\n",
       "      <td>0</td>\n",
       "      <td>0</td>\n",
       "      <td>0</td>\n",
       "      <td>0</td>\n",
       "      <td>0</td>\n",
       "      <td>0</td>\n",
       "      <td>0</td>\n",
       "      <td>0</td>\n",
       "      <td>0</td>\n",
       "    </tr>\n",
       "    <tr>\n",
       "      <th>2</th>\n",
       "      <td>other</td>\n",
       "      <td>510.0</td>\n",
       "      <td>1.0</td>\n",
       "      <td>25.25</td>\n",
       "      <td>1</td>\n",
       "      <td>0</td>\n",
       "      <td>0</td>\n",
       "      <td>0</td>\n",
       "      <td>0</td>\n",
       "      <td>0</td>\n",
       "      <td>...</td>\n",
       "      <td>0</td>\n",
       "      <td>0</td>\n",
       "      <td>0</td>\n",
       "      <td>0</td>\n",
       "      <td>0</td>\n",
       "      <td>0</td>\n",
       "      <td>0</td>\n",
       "      <td>0</td>\n",
       "      <td>0</td>\n",
       "      <td>0</td>\n",
       "    </tr>\n",
       "    <tr>\n",
       "      <th>6</th>\n",
       "      <td>other</td>\n",
       "      <td>1500.0</td>\n",
       "      <td>2.0</td>\n",
       "      <td>185.00</td>\n",
       "      <td>2</td>\n",
       "      <td>0</td>\n",
       "      <td>0</td>\n",
       "      <td>0</td>\n",
       "      <td>0</td>\n",
       "      <td>0</td>\n",
       "      <td>...</td>\n",
       "      <td>0</td>\n",
       "      <td>0</td>\n",
       "      <td>0</td>\n",
       "      <td>0</td>\n",
       "      <td>0</td>\n",
       "      <td>0</td>\n",
       "      <td>0</td>\n",
       "      <td>0</td>\n",
       "      <td>0</td>\n",
       "      <td>0</td>\n",
       "    </tr>\n",
       "    <tr>\n",
       "      <th>7</th>\n",
       "      <td>other</td>\n",
       "      <td>840.0</td>\n",
       "      <td>2.0</td>\n",
       "      <td>45.00</td>\n",
       "      <td>2</td>\n",
       "      <td>0</td>\n",
       "      <td>0</td>\n",
       "      <td>0</td>\n",
       "      <td>0</td>\n",
       "      <td>0</td>\n",
       "      <td>...</td>\n",
       "      <td>0</td>\n",
       "      <td>0</td>\n",
       "      <td>0</td>\n",
       "      <td>0</td>\n",
       "      <td>0</td>\n",
       "      <td>0</td>\n",
       "      <td>0</td>\n",
       "      <td>0</td>\n",
       "      <td>0</td>\n",
       "      <td>0</td>\n",
       "    </tr>\n",
       "    <tr>\n",
       "      <th>8</th>\n",
       "      <td>other</td>\n",
       "      <td>4395.0</td>\n",
       "      <td>3.0</td>\n",
       "      <td>240.00</td>\n",
       "      <td>3</td>\n",
       "      <td>0</td>\n",
       "      <td>0</td>\n",
       "      <td>0</td>\n",
       "      <td>0</td>\n",
       "      <td>0</td>\n",
       "      <td>...</td>\n",
       "      <td>0</td>\n",
       "      <td>0</td>\n",
       "      <td>0</td>\n",
       "      <td>0</td>\n",
       "      <td>0</td>\n",
       "      <td>0</td>\n",
       "      <td>0</td>\n",
       "      <td>0</td>\n",
       "      <td>0</td>\n",
       "      <td>0</td>\n",
       "    </tr>\n",
       "  </tbody>\n",
       "</table>\n",
       "<p>5 rows × 258 columns</p>\n",
       "</div>"
      ],
      "text/plain": [
       "  location  total_sqft  bath   price  bhk  1st Block Jayanagar  \\\n",
       "0    other      2770.0   4.0  290.00    3                    0   \n",
       "2    other       510.0   1.0   25.25    1                    0   \n",
       "6    other      1500.0   2.0  185.00    2                    0   \n",
       "7    other       840.0   2.0   45.00    2                    0   \n",
       "8    other      4395.0   3.0  240.00    3                    0   \n",
       "\n",
       "   1st Block Koramangala  1st Phase JP Nagar  2nd Phase Judicial Layout  \\\n",
       "0                      0                   0                          0   \n",
       "2                      0                   0                          0   \n",
       "6                      0                   0                          0   \n",
       "7                      0                   0                          0   \n",
       "8                      0                   0                          0   \n",
       "\n",
       "   2nd Stage Nagarbhavi  ...  Vijayanagar  Vishveshwarya Layout  \\\n",
       "0                     0  ...            0                     0   \n",
       "2                     0  ...            0                     0   \n",
       "6                     0  ...            0                     0   \n",
       "7                     0  ...            0                     0   \n",
       "8                     0  ...            0                     0   \n",
       "\n",
       "   Vishwapriya Layout  Vittasandra  Whitefield  Yelachenahalli  Yelahanka  \\\n",
       "0                   0            0           0               0          0   \n",
       "2                   0            0           0               0          0   \n",
       "6                   0            0           0               0          0   \n",
       "7                   0            0           0               0          0   \n",
       "8                   0            0           0               0          0   \n",
       "\n",
       "   Yelahanka New Town  Yelenahalli  Yeshwanthpur  \n",
       "0                   0            0             0  \n",
       "2                   0            0             0  \n",
       "6                   0            0             0  \n",
       "7                   0            0             0  \n",
       "8                   0            0             0  \n",
       "\n",
       "[5 rows x 258 columns]"
      ]
     },
     "execution_count": 256,
     "metadata": {},
     "output_type": "execute_result"
    }
   ],
   "source": [
    "df8.head()"
   ]
  },
  {
   "cell_type": "code",
   "execution_count": 257,
   "id": "21f08e6a",
   "metadata": {},
   "outputs": [],
   "source": [
    "x = df8.drop(['price','location'],axis='columns')\n",
    "y = df8['price']"
   ]
  },
  {
   "cell_type": "code",
   "execution_count": 258,
   "id": "f0afdec6",
   "metadata": {},
   "outputs": [
    {
     "data": {
      "text/html": [
       "<div>\n",
       "<style scoped>\n",
       "    .dataframe tbody tr th:only-of-type {\n",
       "        vertical-align: middle;\n",
       "    }\n",
       "\n",
       "    .dataframe tbody tr th {\n",
       "        vertical-align: top;\n",
       "    }\n",
       "\n",
       "    .dataframe thead th {\n",
       "        text-align: right;\n",
       "    }\n",
       "</style>\n",
       "<table border=\"1\" class=\"dataframe\">\n",
       "  <thead>\n",
       "    <tr style=\"text-align: right;\">\n",
       "      <th></th>\n",
       "      <th>total_sqft</th>\n",
       "      <th>bath</th>\n",
       "      <th>bhk</th>\n",
       "      <th>1st Block Jayanagar</th>\n",
       "      <th>1st Block Koramangala</th>\n",
       "      <th>1st Phase JP Nagar</th>\n",
       "      <th>2nd Phase Judicial Layout</th>\n",
       "      <th>2nd Stage Nagarbhavi</th>\n",
       "      <th>5th Block Hbr Layout</th>\n",
       "      <th>5th Phase JP Nagar</th>\n",
       "      <th>...</th>\n",
       "      <th>Vijayanagar</th>\n",
       "      <th>Vishveshwarya Layout</th>\n",
       "      <th>Vishwapriya Layout</th>\n",
       "      <th>Vittasandra</th>\n",
       "      <th>Whitefield</th>\n",
       "      <th>Yelachenahalli</th>\n",
       "      <th>Yelahanka</th>\n",
       "      <th>Yelahanka New Town</th>\n",
       "      <th>Yelenahalli</th>\n",
       "      <th>Yeshwanthpur</th>\n",
       "    </tr>\n",
       "  </thead>\n",
       "  <tbody>\n",
       "    <tr>\n",
       "      <th>0</th>\n",
       "      <td>2770.0</td>\n",
       "      <td>4.0</td>\n",
       "      <td>3</td>\n",
       "      <td>0</td>\n",
       "      <td>0</td>\n",
       "      <td>0</td>\n",
       "      <td>0</td>\n",
       "      <td>0</td>\n",
       "      <td>0</td>\n",
       "      <td>0</td>\n",
       "      <td>...</td>\n",
       "      <td>0</td>\n",
       "      <td>0</td>\n",
       "      <td>0</td>\n",
       "      <td>0</td>\n",
       "      <td>0</td>\n",
       "      <td>0</td>\n",
       "      <td>0</td>\n",
       "      <td>0</td>\n",
       "      <td>0</td>\n",
       "      <td>0</td>\n",
       "    </tr>\n",
       "    <tr>\n",
       "      <th>2</th>\n",
       "      <td>510.0</td>\n",
       "      <td>1.0</td>\n",
       "      <td>1</td>\n",
       "      <td>0</td>\n",
       "      <td>0</td>\n",
       "      <td>0</td>\n",
       "      <td>0</td>\n",
       "      <td>0</td>\n",
       "      <td>0</td>\n",
       "      <td>0</td>\n",
       "      <td>...</td>\n",
       "      <td>0</td>\n",
       "      <td>0</td>\n",
       "      <td>0</td>\n",
       "      <td>0</td>\n",
       "      <td>0</td>\n",
       "      <td>0</td>\n",
       "      <td>0</td>\n",
       "      <td>0</td>\n",
       "      <td>0</td>\n",
       "      <td>0</td>\n",
       "    </tr>\n",
       "    <tr>\n",
       "      <th>6</th>\n",
       "      <td>1500.0</td>\n",
       "      <td>2.0</td>\n",
       "      <td>2</td>\n",
       "      <td>0</td>\n",
       "      <td>0</td>\n",
       "      <td>0</td>\n",
       "      <td>0</td>\n",
       "      <td>0</td>\n",
       "      <td>0</td>\n",
       "      <td>0</td>\n",
       "      <td>...</td>\n",
       "      <td>0</td>\n",
       "      <td>0</td>\n",
       "      <td>0</td>\n",
       "      <td>0</td>\n",
       "      <td>0</td>\n",
       "      <td>0</td>\n",
       "      <td>0</td>\n",
       "      <td>0</td>\n",
       "      <td>0</td>\n",
       "      <td>0</td>\n",
       "    </tr>\n",
       "    <tr>\n",
       "      <th>7</th>\n",
       "      <td>840.0</td>\n",
       "      <td>2.0</td>\n",
       "      <td>2</td>\n",
       "      <td>0</td>\n",
       "      <td>0</td>\n",
       "      <td>0</td>\n",
       "      <td>0</td>\n",
       "      <td>0</td>\n",
       "      <td>0</td>\n",
       "      <td>0</td>\n",
       "      <td>...</td>\n",
       "      <td>0</td>\n",
       "      <td>0</td>\n",
       "      <td>0</td>\n",
       "      <td>0</td>\n",
       "      <td>0</td>\n",
       "      <td>0</td>\n",
       "      <td>0</td>\n",
       "      <td>0</td>\n",
       "      <td>0</td>\n",
       "      <td>0</td>\n",
       "    </tr>\n",
       "    <tr>\n",
       "      <th>8</th>\n",
       "      <td>4395.0</td>\n",
       "      <td>3.0</td>\n",
       "      <td>3</td>\n",
       "      <td>0</td>\n",
       "      <td>0</td>\n",
       "      <td>0</td>\n",
       "      <td>0</td>\n",
       "      <td>0</td>\n",
       "      <td>0</td>\n",
       "      <td>0</td>\n",
       "      <td>...</td>\n",
       "      <td>0</td>\n",
       "      <td>0</td>\n",
       "      <td>0</td>\n",
       "      <td>0</td>\n",
       "      <td>0</td>\n",
       "      <td>0</td>\n",
       "      <td>0</td>\n",
       "      <td>0</td>\n",
       "      <td>0</td>\n",
       "      <td>0</td>\n",
       "    </tr>\n",
       "  </tbody>\n",
       "</table>\n",
       "<p>5 rows × 256 columns</p>\n",
       "</div>"
      ],
      "text/plain": [
       "   total_sqft  bath  bhk  1st Block Jayanagar  1st Block Koramangala  \\\n",
       "0      2770.0   4.0    3                    0                      0   \n",
       "2       510.0   1.0    1                    0                      0   \n",
       "6      1500.0   2.0    2                    0                      0   \n",
       "7       840.0   2.0    2                    0                      0   \n",
       "8      4395.0   3.0    3                    0                      0   \n",
       "\n",
       "   1st Phase JP Nagar  2nd Phase Judicial Layout  2nd Stage Nagarbhavi  \\\n",
       "0                   0                          0                     0   \n",
       "2                   0                          0                     0   \n",
       "6                   0                          0                     0   \n",
       "7                   0                          0                     0   \n",
       "8                   0                          0                     0   \n",
       "\n",
       "   5th Block Hbr Layout  5th Phase JP Nagar  ...  Vijayanagar  \\\n",
       "0                     0                   0  ...            0   \n",
       "2                     0                   0  ...            0   \n",
       "6                     0                   0  ...            0   \n",
       "7                     0                   0  ...            0   \n",
       "8                     0                   0  ...            0   \n",
       "\n",
       "   Vishveshwarya Layout  Vishwapriya Layout  Vittasandra  Whitefield  \\\n",
       "0                     0                   0            0           0   \n",
       "2                     0                   0            0           0   \n",
       "6                     0                   0            0           0   \n",
       "7                     0                   0            0           0   \n",
       "8                     0                   0            0           0   \n",
       "\n",
       "   Yelachenahalli  Yelahanka  Yelahanka New Town  Yelenahalli  Yeshwanthpur  \n",
       "0               0          0                   0            0             0  \n",
       "2               0          0                   0            0             0  \n",
       "6               0          0                   0            0             0  \n",
       "7               0          0                   0            0             0  \n",
       "8               0          0                   0            0             0  \n",
       "\n",
       "[5 rows x 256 columns]"
      ]
     },
     "execution_count": 258,
     "metadata": {},
     "output_type": "execute_result"
    }
   ],
   "source": [
    "x.head()"
   ]
  },
  {
   "cell_type": "code",
   "execution_count": 260,
   "id": "6592fe52",
   "metadata": {},
   "outputs": [],
   "source": [
    "from sklearn.model_selection import train_test_split\n",
    "x_train,x_test,y_train,y_test = train_test_split(x,y,test_size = 0.2,random_state=4)"
   ]
  },
  {
   "cell_type": "code",
   "execution_count": 262,
   "id": "766cddf2",
   "metadata": {},
   "outputs": [
    {
     "data": {
      "text/plain": [
       "0.8223541782872668"
      ]
     },
     "execution_count": 262,
     "metadata": {},
     "output_type": "execute_result"
    }
   ],
   "source": [
    "from sklearn.linear_model import LinearRegression\n",
    "lr = LinearRegression()\n",
    "lr.fit(x_train,y_train)\n",
    "lr.score(x_test,y_test)"
   ]
  },
  {
   "cell_type": "code",
   "execution_count": 264,
   "id": "a568a1b0",
   "metadata": {},
   "outputs": [
    {
     "data": {
      "text/plain": [
       "array([ 7.29154881e-01,  5.31518975e-01,  5.81995184e-01, -1.50850457e+15,\n",
       "       -2.85331579e+16])"
      ]
     },
     "execution_count": 264,
     "metadata": {},
     "output_type": "execute_result"
    }
   ],
   "source": [
    "from sklearn.model_selection import cross_val_score\n",
    "cross_val_score(LinearRegression(),x,y)"
   ]
  },
  {
   "cell_type": "code",
   "execution_count": 265,
   "id": "c6d0b2a5",
   "metadata": {},
   "outputs": [
    {
     "data": {
      "text/plain": [
       "array([0.82235418, 0.82601456, 0.84809415, 0.86283934, 0.8740958 ])"
      ]
     },
     "execution_count": 265,
     "metadata": {},
     "output_type": "execute_result"
    }
   ],
   "source": [
    "from sklearn.model_selection import ShuffleSplit\n",
    "cv = ShuffleSplit(n_splits=5,test_size=0.2,random_state=4)\n",
    "cross_val_score(LinearRegression(),x,y,cv=cv)"
   ]
  },
  {
   "cell_type": "markdown",
   "id": "cd3eca97",
   "metadata": {},
   "source": [
    "### if we see that the score is good for the linear regression model we also have to check remaining models on how are they performed"
   ]
  },
  {
   "cell_type": "markdown",
   "id": "70e757c7",
   "metadata": {},
   "source": [
    "### also we need to check the remaining techniques"
   ]
  },
  {
   "cell_type": "code",
   "execution_count": 307,
   "id": "37d9674a",
   "metadata": {},
   "outputs": [],
   "source": [
    "def algo(x,y):\n",
    "    score=[]\n",
    "    dic ={\n",
    "        'linearregression':{\n",
    "            'model':LinearRegression(),\n",
    "            'params':{\n",
    "                'fit_intercept':[True,False]\n",
    "            }\n",
    "        },\n",
    "        'lasso':{\n",
    "            'model':Lasso(),\n",
    "            'params':{\n",
    "                'alpha':[1,2],\n",
    "                'selection':['random','cyclic']\n",
    "            }\n",
    "        }\n",
    "    }\n",
    "    cv = ShuffleSplit(n_splits=5,test_size=5,random_state=4)\n",
    "    for name,models in dic.items():\n",
    "        model = RandomizedSearchCV(models['model'],models['params'],cv=cv,return_train_score=False,n_iter=2)\n",
    "        model.fit(x,y)\n",
    "        score.append({\n",
    "            'model':name,\n",
    "            'score':model.best_score_,\n",
    "            'params':model.best_params_\n",
    "        })\n",
    "    return pd.DataFrame(score)\n",
    "model = algo(x,y)"
   ]
  },
  {
   "cell_type": "code",
   "execution_count": 308,
   "id": "72d8c006",
   "metadata": {},
   "outputs": [
    {
     "data": {
      "text/html": [
       "<div>\n",
       "<style scoped>\n",
       "    .dataframe tbody tr th:only-of-type {\n",
       "        vertical-align: middle;\n",
       "    }\n",
       "\n",
       "    .dataframe tbody tr th {\n",
       "        vertical-align: top;\n",
       "    }\n",
       "\n",
       "    .dataframe thead th {\n",
       "        text-align: right;\n",
       "    }\n",
       "</style>\n",
       "<table border=\"1\" class=\"dataframe\">\n",
       "  <thead>\n",
       "    <tr style=\"text-align: right;\">\n",
       "      <th></th>\n",
       "      <th>model</th>\n",
       "      <th>score</th>\n",
       "      <th>params</th>\n",
       "    </tr>\n",
       "  </thead>\n",
       "  <tbody>\n",
       "    <tr>\n",
       "      <th>0</th>\n",
       "      <td>linearregression</td>\n",
       "      <td>0.860004</td>\n",
       "      <td>{'fit_intercept': True}</td>\n",
       "    </tr>\n",
       "    <tr>\n",
       "      <th>1</th>\n",
       "      <td>lasso</td>\n",
       "      <td>0.638877</td>\n",
       "      <td>{'selection': 'random', 'alpha': 1}</td>\n",
       "    </tr>\n",
       "  </tbody>\n",
       "</table>\n",
       "</div>"
      ],
      "text/plain": [
       "              model     score                               params\n",
       "0  linearregression  0.860004              {'fit_intercept': True}\n",
       "1             lasso  0.638877  {'selection': 'random', 'alpha': 1}"
      ]
     },
     "execution_count": 308,
     "metadata": {},
     "output_type": "execute_result"
    }
   ],
   "source": [
    "model"
   ]
  },
  {
   "cell_type": "markdown",
   "id": "d61eac5b",
   "metadata": {},
   "source": [
    "### from this we can understand that linear regression fits better for above dataset"
   ]
  },
  {
   "cell_type": "markdown",
   "id": "057d8071",
   "metadata": {},
   "source": [
    "### so its time to create a pickle file for the given dataset .we can use either pickle module or we can import joblib from sklean"
   ]
  },
  {
   "cell_type": "code",
   "execution_count": 328,
   "id": "12b528d8",
   "metadata": {},
   "outputs": [],
   "source": [
    "def predict_vals(sqft,bath,bhk,location):\n",
    "    loc = np.where(x.columns==location)[0][0]\n",
    "    a=np.zeros(len(x.columns))\n",
    "    a[0]=sqft\n",
    "    a[1]=bath\n",
    "    a[2]=bhk\n",
    "    if loc>=0:\n",
    "        a[loc]=1\n",
    "    return lr.predict([a])"
   ]
  },
  {
   "cell_type": "code",
   "execution_count": 332,
   "id": "50acfd0c",
   "metadata": {},
   "outputs": [
    {
     "name": "stderr",
     "output_type": "stream",
     "text": [
      "/usr/lib/python3/dist-packages/sklearn/base.py:420: UserWarning: X does not have valid feature names, but LinearRegression was fitted with feature names\n",
      "  warnings.warn(\n"
     ]
    },
    {
     "data": {
      "text/plain": [
       "80.89468277525852"
      ]
     },
     "execution_count": 332,
     "metadata": {},
     "output_type": "execute_result"
    }
   ],
   "source": [
    "predict_vals(1000,2,2,'1st Phase JP Nagar')[0]"
   ]
  },
  {
   "cell_type": "code",
   "execution_count": 333,
   "id": "99786260",
   "metadata": {},
   "outputs": [
    {
     "name": "stderr",
     "output_type": "stream",
     "text": [
      "/usr/lib/python3/dist-packages/sklearn/base.py:420: UserWarning: X does not have valid feature names, but LinearRegression was fitted with feature names\n",
      "  warnings.warn(\n"
     ]
    },
    {
     "data": {
      "text/plain": [
       "76.86024562613999"
      ]
     },
     "execution_count": 333,
     "metadata": {},
     "output_type": "execute_result"
    }
   ],
   "source": [
    "predict_vals(1000,2,3,'1st Phase JP Nagar')[0]"
   ]
  },
  {
   "cell_type": "code",
   "execution_count": 334,
   "id": "a7e1f9f6",
   "metadata": {},
   "outputs": [
    {
     "name": "stderr",
     "output_type": "stream",
     "text": [
      "/usr/lib/python3/dist-packages/sklearn/base.py:420: UserWarning: X does not have valid feature names, but LinearRegression was fitted with feature names\n",
      "  warnings.warn(\n"
     ]
    },
    {
     "data": {
      "text/plain": [
       "187.85636257528432"
      ]
     },
     "execution_count": 334,
     "metadata": {},
     "output_type": "execute_result"
    }
   ],
   "source": [
    "predict_vals(1000,2,2,'Indira Nagar')[0]"
   ]
  },
  {
   "cell_type": "code",
   "execution_count": 335,
   "id": "3a309d1b",
   "metadata": {},
   "outputs": [],
   "source": [
    "import pickle"
   ]
  },
  {
   "cell_type": "code",
   "execution_count": 336,
   "id": "f61d91c2",
   "metadata": {},
   "outputs": [],
   "source": [
    "with open('bengaluru_dataset.pickle','wb') as f:\n",
    "    pickle.dump(lr,f)"
   ]
  },
  {
   "cell_type": "code",
   "execution_count": 342,
   "id": "e7b0142a",
   "metadata": {},
   "outputs": [],
   "source": [
    "with open('bengaluru_dataset.pickle','rb') as f:\n",
    "    model = pickle.load(f)"
   ]
  },
  {
   "cell_type": "code",
   "execution_count": 343,
   "id": "60463049",
   "metadata": {},
   "outputs": [],
   "source": [
    "def predict_vals(sqft,bath,bhk,location):\n",
    "    loc = np.where(x.columns==location)[0][0]\n",
    "    a=np.zeros(len(x.columns))\n",
    "    a[0]=sqft\n",
    "    a[1]=bath\n",
    "    a[2]=bhk\n",
    "    if loc>=0:\n",
    "        a[loc]=1\n",
    "    return model.predict([a])"
   ]
  },
  {
   "cell_type": "code",
   "execution_count": 344,
   "id": "e3fb4793",
   "metadata": {},
   "outputs": [
    {
     "name": "stderr",
     "output_type": "stream",
     "text": [
      "/usr/lib/python3/dist-packages/sklearn/base.py:420: UserWarning: X does not have valid feature names, but LinearRegression was fitted with feature names\n",
      "  warnings.warn(\n"
     ]
    },
    {
     "data": {
      "text/plain": [
       "array([187.85636258])"
      ]
     },
     "execution_count": 344,
     "metadata": {},
     "output_type": "execute_result"
    }
   ],
   "source": [
    "predict_vals(1000,2,2,'Indira Nagar')"
   ]
  },
  {
   "cell_type": "code",
   "execution_count": 345,
   "id": "8b14e0c7",
   "metadata": {},
   "outputs": [],
   "source": [
    "import json\n",
    "columns={\n",
    "    'column':[col.lower() for col in x.columns]\n",
    "}\n",
    "with open('columns.json','w') as f:\n",
    "    f.write(json.dumps(co))"
   ]
  }
 ],
 "metadata": {
  "kernelspec": {
   "display_name": "Python 3 (ipykernel)",
   "language": "python",
   "name": "python3"
  },
  "language_info": {
   "codemirror_mode": {
    "name": "ipython",
    "version": 3
   },
   "file_extension": ".py",
   "mimetype": "text/x-python",
   "name": "python",
   "nbconvert_exporter": "python",
   "pygments_lexer": "ipython3",
   "version": "3.11.4"
  }
 },
 "nbformat": 4,
 "nbformat_minor": 5
}
